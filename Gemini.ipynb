{
 "cells": [
  {
   "cell_type": "code",
   "execution_count": null,
   "id": "09c1f1ef-ea73-4ee5-9339-fe53bcde83e3",
   "metadata": {},
   "outputs": [],
   "source": [
    "# Vertex AI SDK\n",
    "\n",
    "# https://cloud.google.com/vertex-ai/docs\n",
    "\n",
    "# Prerequisites: Install the required libraries\n",
    "# pip install google-cloud-aiplatform"
   ]
  },
  {
   "cell_type": "code",
   "execution_count": 1,
   "id": "4a5e14bf-cb27-4e36-ba63-8f5db67c4a0b",
   "metadata": {},
   "outputs": [],
   "source": [
    "import vertexai\n",
    "from vertexai.generative_models import GenerativeModel, Part\n",
    "import os"
   ]
  },
  {
   "cell_type": "code",
   "execution_count": 2,
   "id": "d98d3c1f-9d40-4486-bebd-7666b5367ca3",
   "metadata": {},
   "outputs": [],
   "source": [
    "# Initialize Vertex AI with your project and location\n",
    "def initialize_vertex_ai():\n",
    "    # Set your GCP project ID and region\n",
    "    project_id = \"\"\n",
    "    location = \"us-central1\"  # Choose the appropriate region where Gemini is available\n",
    "\n",
    "    # Initialize Vertex AI\n",
    "    # vertexai.init(project=project_id, location=location)\n",
    "    vertexai.init()\n",
    "\n",
    "    print(\"Vertex AI initialized successfully.\")"
   ]
  },
  {
   "cell_type": "code",
   "execution_count": 4,
   "id": "0faacfee-b60d-4ec8-af69-2d03983c6b1e",
   "metadata": {},
   "outputs": [
    {
     "name": "stdout",
     "output_type": "stream",
     "text": [
      "Vertex AI initialized successfully.\n",
      "Generated text: Imagine you need a powerful computer with lots of storage to write a book, edit a video, or run a complicated program.\n",
      "\n",
      "**Instead of buying that computer and keeping it at home, you can \"rent\" it from a company that has a huge warehouse full of them.**\n",
      "\n",
      "That's basically cloud computing!\n",
      "\n",
      "**Here's a breakdown:**\n",
      "\n",
      "* **\"Cloud\"**: This refers to the internet. Your data and applications are stored and run on servers located in data centers around the world, accessible through the internet.\n",
      "* **\"Computing\"**: This refers to the actual processing power, storage space, and software that you need to get things done.\n",
      "\n",
      "**So, cloud computing means using computer resources – like storage, software, and processing power – over the internet instead of storing them on your own computer or server.**\n",
      "\n",
      "**Think of it like this:**\n",
      "\n",
      "* **Traditional computing:** You own and maintain your own car. You're responsible for everything from gas to repairs.\n",
      "* **Cloud computing:** You rent a car (or use a ride-sharing service like Uber). You only pay for what you use, and the company handles the maintenance and upgrades.\n",
      "\n",
      "**Benefits of Cloud Computing:**\n",
      "\n",
      "* **Cost Savings:** You only pay for what you use.\n",
      "* **Scalability:** Easily increase or decrease resources as needed.\n",
      "* **Accessibility:** Access your data and applications from anywhere with an internet connection.\n",
      "* **Reliability:** Cloud providers have robust infrastructure and backups.\n",
      "* **Automatic Updates:** Cloud providers handle software updates and maintenance.\n",
      "\n",
      "**In short, cloud computing is like renting computer resources over the internet. It's convenient, cost-effective, and makes it easier to access and manage your data and applications.**\n",
      "\n"
     ]
    }
   ],
   "source": [
    "# Basic text generation with Gemini Pro\n",
    "def generate_text(prompt):\n",
    "    # Initialize Vertex AI\n",
    "    initialize_vertex_ai()\n",
    "\n",
    "    # Create a Gemini Pro model instance\n",
    "    model = GenerativeModel(\"gemini-2.0-flash-001\")\n",
    "\n",
    "    # Generate content\n",
    "    response = model.generate_content(prompt)\n",
    "\n",
    "    return response.text\n",
    "\n",
    "result = generate_text(\"Explain the concept of cloud computing in simple terms.\")\n",
    "print(\"Generated text:\", result)"
   ]
  },
  {
   "cell_type": "code",
   "execution_count": 5,
   "id": "d303f994-8399-4f46-a082-536c1558b90c",
   "metadata": {},
   "outputs": [
    {
     "name": "stdout",
     "output_type": "stream",
     "text": [
      "Vertex AI initialized successfully.\n",
      "Generated text: Imagine you have a bunch of tools and services you need to use, like a powerful computer, storage space for your files, and software programs. Instead of buying and maintaining all these things yourself, you can rent them from a \"cloud\" provider.\n",
      "\n",
      "Think of it like renting an apartment instead of buying a house. You get to use the space and amenities without the hassle of owning and maintaining them.\n",
      "\n",
      "**So, cloud computing means:**\n",
      "\n",
      "*   **Accessing computer services (like storage, software, and processing power) over the internet (the \"cloud\").**\n",
      "*   **Paying only for what you use (like renting an apartment by the month).**\n",
      "*   **Not worrying about the technical details of running and maintaining the infrastructure (the landlord takes care of repairs).**\n",
      "\n",
      "**In short, it's like renting computer resources instead of owning them, allowing you to focus on using them instead of managing them.**\n",
      "\n"
     ]
    }
   ],
   "source": [
    "def generate_with_parameters(prompt):\n",
    "    # Initialize Vertex AI\n",
    "    initialize_vertex_ai()\n",
    "\n",
    "    # Create a Gemini Pro model instance\n",
    "    model = GenerativeModel(\"gemini-2.0-flash-001\")\n",
    "\n",
    "    # Set generation parameters\n",
    "    generation_config = {\n",
    "        \"max_output_tokens\": 1024,\n",
    "        \"temperature\": 0.2,\n",
    "        \"top_p\": 0.95,\n",
    "        \"top_k\": 40\n",
    "    }\n",
    "\n",
    "    # Generate content with specified parameters\n",
    "    response = model.generate_content(\n",
    "        prompt,\n",
    "        generation_config=generation_config\n",
    "    )\n",
    "\n",
    "    return response.text\n",
    "\n",
    "result = generate_text(\"Explain the concept of cloud computing in simple terms.\")\n",
    "print(\"Generated text:\", result)"
   ]
  },
  {
   "cell_type": "code",
   "execution_count": null,
   "id": "a2755ea2-3ee3-4111-8eb3-4951d9c1ed48",
   "metadata": {},
   "outputs": [],
   "source": [
    "# Google Gen AI SDK\n",
    "\n",
    "#https://cloud.google.com/vertex-ai/generative-ai/docs/sdks/overview\n",
    "#pip install  google-genai"
   ]
  },
  {
   "cell_type": "code",
   "execution_count": 8,
   "id": "120b42e9-e151-4a38-a417-91620053f300",
   "metadata": {},
   "outputs": [
    {
     "name": "stdout",
     "output_type": "stream",
     "text": [
      "This image is a flat lay photograph showing a breakfast or brunch scene centered around **blueberry scones**.\n",
      "\n",
      "Here's a breakdown of the elements:\n",
      "\n",
      "1.  **Blueberry Scones:** Five freshly baked, rustic-looking blueberry scones are the main focus, arranged on a piece of white parchment paper. The paper is visibly stained with purple blueberry juice.\n",
      "2.  **Fresh Blueberries:** A small brown bowl filled with fresh blueberries is present, along with several loose blueberries scattered around the scones.\n",
      "3.  **Coffee:** Two white mugs of coffee are included: one appears to be black coffee, and the other is coffee with milk or cream.\n",
      "4.  **Flowers:** A bouquet of pink and white peonies with green stems and leaves is arranged on the right side of the frame.\n",
      "5.  **Utensil:** A decorative silver spoon with the words \"LET'S JAM\" engraved on it rests next to the bowl of blueberries.\n",
      "6.  **Garnish:** A small sprig of mint is visible near the center.\n",
      "7.  **Setting:** The items are arranged on a dark, textured surface, possibly a wooden table or a styled backdrop, giving the scene a slightly rustic and cozy feel.\n",
      "\n",
      "Overall, it's a carefully composed food photograph highlighting homemade blueberry scones enjoyed with coffee, accented by fresh fruit and flowers."
     ]
    }
   ],
   "source": [
    "from google import genai\n",
    "from google.genai import types\n",
    "client = genai.Client(\n",
    "  vertexai=True, project=\"truster-tester-program\", location = \"us-central1\"\n",
    ")\n",
    "# client = genai.Client(api_key=\"YOUR_API_KEY\")\n",
    "\n",
    "\n",
    "# If your image is stored in Google Cloud Storage, you can use the from_uri class method to create a Part object.\n",
    "IMAGE_URI = \"gs://generativeai-downloads/images/scones.jpg\"\n",
    "model = \"gemini-2.5-pro-preview-03-25\"\n",
    "response = client.models.generate_content(\n",
    "  model=model,\n",
    "  contents=[\n",
    "    \"What is shown in this image?\",\n",
    "    types.Part.from_uri(\n",
    "      file_uri=IMAGE_URI,\n",
    "      mime_type=\"image/png\",\n",
    "    ),\n",
    "  ],\n",
    ")\n",
    "print(response.text, end=\"\")"
   ]
  }
 ],
 "metadata": {
  "kernelspec": {
   "display_name": "Python 3 (ipykernel)",
   "language": "python",
   "name": "python3"
  },
  "language_info": {
   "codemirror_mode": {
    "name": "ipython",
    "version": 3
   },
   "file_extension": ".py",
   "mimetype": "text/x-python",
   "name": "python",
   "nbconvert_exporter": "python",
   "pygments_lexer": "ipython3",
   "version": "3.11.4"
  }
 },
 "nbformat": 4,
 "nbformat_minor": 5
}

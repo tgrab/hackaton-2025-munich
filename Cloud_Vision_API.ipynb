{
  "nbformat": 4,
  "nbformat_minor": 0,
  "metadata": {
    "colab": {
      "provenance": []
    },
    "kernelspec": {
      "name": "python3",
      "display_name": "Python 3"
    },
    "language_info": {
      "name": "python"
    }
  },
  "cells": [
    {
      "cell_type": "code",
      "source": [
        "# Install the Google Cloud Vision library using pip.\n",
        "# This library is needed to interact with the Google Cloud Vision API.\n",
        "!pip install google-cloud-vision"
      ],
      "metadata": {
        "colab": {
          "base_uri": "https://localhost:8080/"
        },
        "id": "Ibbz9yvtTNDa",
        "outputId": "52861db8-5cf4-4f2d-b86c-06fbc8b47370"
      },
      "execution_count": 5,
      "outputs": [
        {
          "output_type": "stream",
          "name": "stdout",
          "text": [
            "Requirement already satisfied: google-cloud-vision in /usr/local/lib/python3.11/dist-packages (3.10.1)\n",
            "Requirement already satisfied: google-api-core!=2.0.*,!=2.1.*,!=2.10.*,!=2.2.*,!=2.3.*,!=2.4.*,!=2.5.*,!=2.6.*,!=2.7.*,!=2.8.*,!=2.9.*,<3.0.0,>=1.34.1 in /usr/local/lib/python3.11/dist-packages (from google-api-core[grpc]!=2.0.*,!=2.1.*,!=2.10.*,!=2.2.*,!=2.3.*,!=2.4.*,!=2.5.*,!=2.6.*,!=2.7.*,!=2.8.*,!=2.9.*,<3.0.0,>=1.34.1->google-cloud-vision) (2.24.2)\n",
            "Requirement already satisfied: google-auth!=2.24.0,!=2.25.0,<3.0.0,>=2.14.1 in /usr/local/lib/python3.11/dist-packages (from google-cloud-vision) (2.38.0)\n",
            "Requirement already satisfied: proto-plus<2.0.0,>=1.22.3 in /usr/local/lib/python3.11/dist-packages (from google-cloud-vision) (1.26.1)\n",
            "Requirement already satisfied: protobuf!=4.21.0,!=4.21.1,!=4.21.2,!=4.21.3,!=4.21.4,!=4.21.5,<7.0.0,>=3.20.2 in /usr/local/lib/python3.11/dist-packages (from google-cloud-vision) (5.29.4)\n",
            "Requirement already satisfied: googleapis-common-protos<2.0.0,>=1.56.2 in /usr/local/lib/python3.11/dist-packages (from google-api-core!=2.0.*,!=2.1.*,!=2.10.*,!=2.2.*,!=2.3.*,!=2.4.*,!=2.5.*,!=2.6.*,!=2.7.*,!=2.8.*,!=2.9.*,<3.0.0,>=1.34.1->google-api-core[grpc]!=2.0.*,!=2.1.*,!=2.10.*,!=2.2.*,!=2.3.*,!=2.4.*,!=2.5.*,!=2.6.*,!=2.7.*,!=2.8.*,!=2.9.*,<3.0.0,>=1.34.1->google-cloud-vision) (1.70.0)\n",
            "Requirement already satisfied: requests<3.0.0,>=2.18.0 in /usr/local/lib/python3.11/dist-packages (from google-api-core!=2.0.*,!=2.1.*,!=2.10.*,!=2.2.*,!=2.3.*,!=2.4.*,!=2.5.*,!=2.6.*,!=2.7.*,!=2.8.*,!=2.9.*,<3.0.0,>=1.34.1->google-api-core[grpc]!=2.0.*,!=2.1.*,!=2.10.*,!=2.2.*,!=2.3.*,!=2.4.*,!=2.5.*,!=2.6.*,!=2.7.*,!=2.8.*,!=2.9.*,<3.0.0,>=1.34.1->google-cloud-vision) (2.32.3)\n",
            "Requirement already satisfied: grpcio<2.0dev,>=1.33.2 in /usr/local/lib/python3.11/dist-packages (from google-api-core[grpc]!=2.0.*,!=2.1.*,!=2.10.*,!=2.2.*,!=2.3.*,!=2.4.*,!=2.5.*,!=2.6.*,!=2.7.*,!=2.8.*,!=2.9.*,<3.0.0,>=1.34.1->google-cloud-vision) (1.71.0)\n",
            "Requirement already satisfied: grpcio-status<2.0.dev0,>=1.33.2 in /usr/local/lib/python3.11/dist-packages (from google-api-core[grpc]!=2.0.*,!=2.1.*,!=2.10.*,!=2.2.*,!=2.3.*,!=2.4.*,!=2.5.*,!=2.6.*,!=2.7.*,!=2.8.*,!=2.9.*,<3.0.0,>=1.34.1->google-cloud-vision) (1.71.0)\n",
            "Requirement already satisfied: cachetools<6.0,>=2.0.0 in /usr/local/lib/python3.11/dist-packages (from google-auth!=2.24.0,!=2.25.0,<3.0.0,>=2.14.1->google-cloud-vision) (5.5.2)\n",
            "Requirement already satisfied: pyasn1-modules>=0.2.1 in /usr/local/lib/python3.11/dist-packages (from google-auth!=2.24.0,!=2.25.0,<3.0.0,>=2.14.1->google-cloud-vision) (0.4.2)\n",
            "Requirement already satisfied: rsa<5,>=3.1.4 in /usr/local/lib/python3.11/dist-packages (from google-auth!=2.24.0,!=2.25.0,<3.0.0,>=2.14.1->google-cloud-vision) (4.9.1)\n",
            "Requirement already satisfied: pyasn1<0.7.0,>=0.6.1 in /usr/local/lib/python3.11/dist-packages (from pyasn1-modules>=0.2.1->google-auth!=2.24.0,!=2.25.0,<3.0.0,>=2.14.1->google-cloud-vision) (0.6.1)\n",
            "Requirement already satisfied: charset-normalizer<4,>=2 in /usr/local/lib/python3.11/dist-packages (from requests<3.0.0,>=2.18.0->google-api-core!=2.0.*,!=2.1.*,!=2.10.*,!=2.2.*,!=2.3.*,!=2.4.*,!=2.5.*,!=2.6.*,!=2.7.*,!=2.8.*,!=2.9.*,<3.0.0,>=1.34.1->google-api-core[grpc]!=2.0.*,!=2.1.*,!=2.10.*,!=2.2.*,!=2.3.*,!=2.4.*,!=2.5.*,!=2.6.*,!=2.7.*,!=2.8.*,!=2.9.*,<3.0.0,>=1.34.1->google-cloud-vision) (3.4.1)\n",
            "Requirement already satisfied: idna<4,>=2.5 in /usr/local/lib/python3.11/dist-packages (from requests<3.0.0,>=2.18.0->google-api-core!=2.0.*,!=2.1.*,!=2.10.*,!=2.2.*,!=2.3.*,!=2.4.*,!=2.5.*,!=2.6.*,!=2.7.*,!=2.8.*,!=2.9.*,<3.0.0,>=1.34.1->google-api-core[grpc]!=2.0.*,!=2.1.*,!=2.10.*,!=2.2.*,!=2.3.*,!=2.4.*,!=2.5.*,!=2.6.*,!=2.7.*,!=2.8.*,!=2.9.*,<3.0.0,>=1.34.1->google-cloud-vision) (3.10)\n",
            "Requirement already satisfied: urllib3<3,>=1.21.1 in /usr/local/lib/python3.11/dist-packages (from requests<3.0.0,>=2.18.0->google-api-core!=2.0.*,!=2.1.*,!=2.10.*,!=2.2.*,!=2.3.*,!=2.4.*,!=2.5.*,!=2.6.*,!=2.7.*,!=2.8.*,!=2.9.*,<3.0.0,>=1.34.1->google-api-core[grpc]!=2.0.*,!=2.1.*,!=2.10.*,!=2.2.*,!=2.3.*,!=2.4.*,!=2.5.*,!=2.6.*,!=2.7.*,!=2.8.*,!=2.9.*,<3.0.0,>=1.34.1->google-cloud-vision) (2.4.0)\n",
            "Requirement already satisfied: certifi>=2017.4.17 in /usr/local/lib/python3.11/dist-packages (from requests<3.0.0,>=2.18.0->google-api-core!=2.0.*,!=2.1.*,!=2.10.*,!=2.2.*,!=2.3.*,!=2.4.*,!=2.5.*,!=2.6.*,!=2.7.*,!=2.8.*,!=2.9.*,<3.0.0,>=1.34.1->google-api-core[grpc]!=2.0.*,!=2.1.*,!=2.10.*,!=2.2.*,!=2.3.*,!=2.4.*,!=2.5.*,!=2.6.*,!=2.7.*,!=2.8.*,!=2.9.*,<3.0.0,>=1.34.1->google-cloud-vision) (2025.1.31)\n"
          ]
        }
      ]
    },
    {
      "cell_type": "code",
      "source": [
        "import os\n",
        "# Set the GOOGLE_APPLICATION_CREDENTIALS environment variable to the path of your service account key file.\n",
        "# This is necessary for the Google Cloud client libraries to authenticate and access the Vision API.\n",
        "# Replace '/content/munich-hackathon-2025-6e308fb8c00c.json' with the actual path to your JSON credentials file.\n",
        "os.environ['GOOGLE_APPLICATION_CREDENTIALS'] = '/content/munich-hackathon-2025-6e308fb8c00c.json'"
      ],
      "metadata": {
        "id": "N4WgjqdjT4T3"
      },
      "execution_count": 6,
      "outputs": []
    },
    {
      "cell_type": "code",
      "source": [
        "# Import necessary libraries\n",
        "from google.cloud import vision  # Import the Google Cloud Vision library for image analysis\n",
        "import requests  # Import the requests library for making HTTP requests to download the image\n",
        "from io import BytesIO  # Import BytesIO for working with image data in memory\n",
        "\n",
        "\n",
        "# Initialize the Google Cloud Vision API client\n",
        "client = vision.ImageAnnotatorClient()\n",
        "\n",
        "# Define a function to detect labels in an image hosted online\n",
        "def detect_labels_online(image_url):\n",
        "    \"\"\"Detects labels in an image hosted online.\"\"\"\n",
        "    # Download the image from the provided URL\n",
        "    response = requests.get(image_url)\n",
        "    response.raise_for_status()  # Raise an exception if the download fails (e.g., 404 Not Found)\n",
        "\n",
        "    # Store the image data in memory using BytesIO\n",
        "    image_content = BytesIO(response.content)\n",
        "\n",
        "    # Create a Google Cloud Vision Image object from the image data\n",
        "    image = vision.Image(content=image_content.getvalue())\n",
        "\n",
        "    # Call the Google Cloud Vision API to detect labels in the image\n",
        "    response = client.label_detection(image=image)\n",
        "\n",
        "    # Print the detected labels to the console\n",
        "    for label in response.label_annotations:\n",
        "        print(f\"Label: {label.description}\")\n",
        "        print(f\"  Score: {label.score:.2f}\")  # Format score to 2 decimal places\n",
        "        print(f\"  Topicality: {label.topicality:.5f}\")  # Format topicality to 2 decimal places\n",
        "        # print(f\"  MID: {label.mid}\")"
      ],
      "metadata": {
        "id": "TUaOFUpJTZti"
      },
      "execution_count": 14,
      "outputs": []
    },
    {
      "cell_type": "code",
      "source": [
        "# Example usage:\n",
        "# Set the URL of the image to analyze\n",
        "image_url = \"https://cdn.britannica.com/31/183231-050-8D8EB720/Carli-Lloyd-penalty-goal-semifinal-match-Germany-2015.jpg\"\n",
        "\n",
        "# Call the function to detect labels in the specified image\n",
        "detect_labels_online(image_url)"
      ],
      "metadata": {
        "colab": {
          "base_uri": "https://localhost:8080/"
        },
        "id": "BjTBvQOpM4yd",
        "outputId": "576afc96-3c31-4812-956f-5fc3e32c23c0"
      },
      "execution_count": 15,
      "outputs": [
        {
          "output_type": "stream",
          "name": "stdout",
          "text": [
            "Label: Soccer player\n",
            "  Score: 0.98\n",
            "  Topicality: 0.01252\n",
            "  MID: /m/0pcq81q\n",
            "Label: Sports Uniform\n",
            "  Score: 0.98\n",
            "  Topicality: 0.00100\n",
            "  MID: /m/0h8mhzd\n",
            "Label: Team sport\n",
            "  Score: 0.98\n",
            "  Topicality: 0.01039\n",
            "  MID: /m/03x045\n",
            "Label: Player\n",
            "  Score: 0.98\n",
            "  Topicality: 0.06250\n",
            "  MID: /m/02vzx9\n",
            "Label: Football\n",
            "  Score: 0.97\n",
            "  Topicality: 0.70604\n",
            "  MID: /m/02vx4\n",
            "Label: Sports venue\n",
            "  Score: 0.97\n",
            "  Topicality: 0.00068\n",
            "  MID: /m/0bmgjqz\n",
            "Label: Shorts\n",
            "  Score: 0.97\n",
            "  Topicality: 0.00088\n",
            "  MID: /m/01bfm9\n",
            "Label: Footwear\n",
            "  Score: 0.97\n",
            "  Topicality: 0.00442\n",
            "  MID: /m/09j5n\n",
            "Label: Ball game\n",
            "  Score: 0.96\n",
            "  Topicality: 0.00380\n",
            "  MID: /m/020m7t\n",
            "Label: Shoe\n",
            "  Score: 0.96\n",
            "  Topicality: 0.00422\n",
            "  MID: /m/06rrc\n"
          ]
        }
      ]
    }
  ]
}
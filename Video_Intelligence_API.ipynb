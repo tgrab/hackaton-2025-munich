{
  "nbformat": 4,
  "nbformat_minor": 0,
  "metadata": {
    "colab": {
      "provenance": []
    },
    "kernelspec": {
      "name": "python3",
      "display_name": "Python 3"
    },
    "language_info": {
      "name": "python"
    }
  },
  "cells": [
    {
      "cell_type": "code",
      "source": [
        "# Install necessary libraries using pip.\n",
        "# google-cloud-videointelligence: Library for interacting with Google Cloud's Video Intelligence API.\n",
        "# This API is used to analyze videos and extract information like labels, objects, and text.\n",
        "# requests: Library for making HTTP requests (used for communication with web services).\n",
        "# This library is used to send data to and receive data from the Video Intelligence API.\n",
        "!pip install google-cloud-videointelligence requests\n",
        "\n",
        "\n",
        "# Import the os module for working with environment variables.\n",
        "import os\n",
        "\n",
        "# Set the GOOGLE_APPLICATION_CREDENTIALS environment variable.\n",
        "# This variable points to the JSON file containing your Google Cloud credentials.\n",
        "# These credentials are required for authenticating your requests to Google Cloud services.\n",
        "# Replace '/content/munich-hackathon-2025-6e308fb8c00c.json' with the actual path to your credentials file.\n",
        "os.environ['GOOGLE_APPLICATION_CREDENTIALS'] = '/content/munich-hackathon-2025-6e308fb8c00c.json'  # Replace with the actual path"
      ],
      "metadata": {
        "colab": {
          "base_uri": "https://localhost:8080/"
        },
        "id": "m_rNd26kzjnc",
        "outputId": "6a6325de-1239-4594-82b2-4deff0354e5c"
      },
      "execution_count": 57,
      "outputs": [
        {
          "output_type": "stream",
          "name": "stdout",
          "text": [
            "Requirement already satisfied: google-cloud-videointelligence in /usr/local/lib/python3.11/dist-packages (2.16.1)\n",
            "Requirement already satisfied: requests in /usr/local/lib/python3.11/dist-packages (2.32.3)\n",
            "Requirement already satisfied: google-api-core!=2.0.*,!=2.1.*,!=2.10.*,!=2.2.*,!=2.3.*,!=2.4.*,!=2.5.*,!=2.6.*,!=2.7.*,!=2.8.*,!=2.9.*,<3.0.0,>=1.34.1 in /usr/local/lib/python3.11/dist-packages (from google-api-core[grpc]!=2.0.*,!=2.1.*,!=2.10.*,!=2.2.*,!=2.3.*,!=2.4.*,!=2.5.*,!=2.6.*,!=2.7.*,!=2.8.*,!=2.9.*,<3.0.0,>=1.34.1->google-cloud-videointelligence) (2.24.2)\n",
            "Requirement already satisfied: google-auth!=2.24.0,!=2.25.0,<3.0.0,>=2.14.1 in /usr/local/lib/python3.11/dist-packages (from google-cloud-videointelligence) (2.38.0)\n",
            "Requirement already satisfied: proto-plus<2.0.0,>=1.22.3 in /usr/local/lib/python3.11/dist-packages (from google-cloud-videointelligence) (1.26.1)\n",
            "Requirement already satisfied: protobuf!=4.21.0,!=4.21.1,!=4.21.2,!=4.21.3,!=4.21.4,!=4.21.5,<7.0.0,>=3.20.2 in /usr/local/lib/python3.11/dist-packages (from google-cloud-videointelligence) (5.29.4)\n",
            "Requirement already satisfied: charset-normalizer<4,>=2 in /usr/local/lib/python3.11/dist-packages (from requests) (3.4.1)\n",
            "Requirement already satisfied: idna<4,>=2.5 in /usr/local/lib/python3.11/dist-packages (from requests) (3.10)\n",
            "Requirement already satisfied: urllib3<3,>=1.21.1 in /usr/local/lib/python3.11/dist-packages (from requests) (2.4.0)\n",
            "Requirement already satisfied: certifi>=2017.4.17 in /usr/local/lib/python3.11/dist-packages (from requests) (2025.1.31)\n",
            "Requirement already satisfied: googleapis-common-protos<2.0.0,>=1.56.2 in /usr/local/lib/python3.11/dist-packages (from google-api-core!=2.0.*,!=2.1.*,!=2.10.*,!=2.2.*,!=2.3.*,!=2.4.*,!=2.5.*,!=2.6.*,!=2.7.*,!=2.8.*,!=2.9.*,<3.0.0,>=1.34.1->google-api-core[grpc]!=2.0.*,!=2.1.*,!=2.10.*,!=2.2.*,!=2.3.*,!=2.4.*,!=2.5.*,!=2.6.*,!=2.7.*,!=2.8.*,!=2.9.*,<3.0.0,>=1.34.1->google-cloud-videointelligence) (1.70.0)\n",
            "Requirement already satisfied: grpcio<2.0dev,>=1.33.2 in /usr/local/lib/python3.11/dist-packages (from google-api-core[grpc]!=2.0.*,!=2.1.*,!=2.10.*,!=2.2.*,!=2.3.*,!=2.4.*,!=2.5.*,!=2.6.*,!=2.7.*,!=2.8.*,!=2.9.*,<3.0.0,>=1.34.1->google-cloud-videointelligence) (1.71.0)\n",
            "Requirement already satisfied: grpcio-status<2.0.dev0,>=1.33.2 in /usr/local/lib/python3.11/dist-packages (from google-api-core[grpc]!=2.0.*,!=2.1.*,!=2.10.*,!=2.2.*,!=2.3.*,!=2.4.*,!=2.5.*,!=2.6.*,!=2.7.*,!=2.8.*,!=2.9.*,<3.0.0,>=1.34.1->google-cloud-videointelligence) (1.71.0)\n",
            "Requirement already satisfied: cachetools<6.0,>=2.0.0 in /usr/local/lib/python3.11/dist-packages (from google-auth!=2.24.0,!=2.25.0,<3.0.0,>=2.14.1->google-cloud-videointelligence) (5.5.2)\n",
            "Requirement already satisfied: pyasn1-modules>=0.2.1 in /usr/local/lib/python3.11/dist-packages (from google-auth!=2.24.0,!=2.25.0,<3.0.0,>=2.14.1->google-cloud-videointelligence) (0.4.2)\n",
            "Requirement already satisfied: rsa<5,>=3.1.4 in /usr/local/lib/python3.11/dist-packages (from google-auth!=2.24.0,!=2.25.0,<3.0.0,>=2.14.1->google-cloud-videointelligence) (4.9.1)\n",
            "Requirement already satisfied: pyasn1<0.7.0,>=0.6.1 in /usr/local/lib/python3.11/dist-packages (from pyasn1-modules>=0.2.1->google-auth!=2.24.0,!=2.25.0,<3.0.0,>=2.14.1->google-cloud-videointelligence) (0.6.1)\n"
          ]
        }
      ]
    },
    {
      "cell_type": "markdown",
      "source": [
        "# Label Detection with Google Video Intelligence API and Confidence by Time Segment\n"
      ],
      "metadata": {
        "id": "Zs9Ov3mMjlgm"
      }
    },
    {
      "cell_type": "code",
      "source": [
        "# Import the Google Video Intelligence API client\n",
        "from google.cloud import videointelligence\n",
        "\n",
        "# Create a Video Intelligence client to communicate with the API\n",
        "video_client = videointelligence.VideoIntelligenceServiceClient()\n",
        "\n",
        "# Define what we want the API to detect: LABEL_DETECTION (objects/concepts)\n",
        "features = [videointelligence.Feature.LABEL_DETECTION]\n",
        "\n",
        "# Start an asynchronous request to analyze the video for labels\n",
        "operation = video_client.annotate_video(\n",
        "    request={\n",
        "        \"features\": features,\n",
        "        # Video location in Google Cloud Storage (GCS)\n",
        "        # Only one 'input_uri' should be active at a time\n",
        "        \"input_uri\": \"gs://pjs-munich-datathon-bucket/input/dreamfall.mov\",\n",
        "    }\n",
        ")\n",
        "\n",
        "print(\"\\nProcessing video for label annotations:\")\n",
        "\n",
        "# Wait (up to 180 seconds) for the video analysis to complete\n",
        "result = operation.result(timeout=180)\n",
        "print(\"\\nFinished processing.\")\n",
        "\n",
        "# === Extract and Print Results ===\n",
        "\n",
        "# Access the first annotation result (because only one video was analyzed)\n",
        "segment_labels = result.annotation_results[0].segment_label_annotations\n",
        "\n",
        "# Loop over all detected segment labels\n",
        "for i, segment_label in enumerate(segment_labels):\n",
        "    # Print the label's description (e.g., \"dog\", \"concert\", \"Italy\")\n",
        "    print(\"Video label description: {}\".format(segment_label.entity.description))\n",
        "\n",
        "    # Print higher-level category descriptions if available (e.g., \"animal\", \"event\")\n",
        "    for category_entity in segment_label.category_entities:\n",
        "        print(\"\\tLabel category description: {}\".format(category_entity.description))\n",
        "\n",
        "    # Loop through all time segments where this label was detected\n",
        "    for i, segment in enumerate(segment_label.segments):\n",
        "        # Calculate segment start and end times (in seconds)\n",
        "        start_time = (\n",
        "            segment.segment.start_time_offset.seconds\n",
        "            + segment.segment.start_time_offset.microseconds / 1e6\n",
        "        )\n",
        "        end_time = (\n",
        "            segment.segment.end_time_offset.seconds\n",
        "            + segment.segment.end_time_offset.microseconds / 1e6\n",
        "        )\n",
        "        positions = \"{}s to {}s\".format(start_time, end_time)\n",
        "\n",
        "        # Retrieve the confidence score for this segment detection\n",
        "        confidence = segment.confidence\n",
        "\n",
        "        # Print the time range and the confidence level\n",
        "        print(\"\\tSegment {}: {}\".format(i, positions))\n",
        "        print(\"\\tConfidence: {}\".format(confidence))\n",
        "    print(\"\\n\")"
      ],
      "metadata": {
        "colab": {
          "base_uri": "https://localhost:8080/"
        },
        "id": "9h1x2BCfIxyi",
        "outputId": "b49a82a1-f5dd-4636-c0a8-cac5f5684325"
      },
      "execution_count": 58,
      "outputs": [
        {
          "output_type": "stream",
          "name": "stdout",
          "text": [
            "\n",
            "Processing video for label annotations:\n",
            "\n",
            "Finished processing.\n",
            "Video label description: games\n",
            "\tSegment 0: 0.0s to 265.2s\n",
            "\tConfidence: 0.6059064865112305\n",
            "\n",
            "\n",
            "Video label description: video game\n",
            "\tSegment 0: 0.0s to 265.2s\n",
            "\tConfidence: 0.48314234614372253\n",
            "\n",
            "\n"
          ]
        }
      ]
    },
    {
      "cell_type": "markdown",
      "source": [
        "#  Label and Segment Extraction"
      ],
      "metadata": {
        "id": "6TefopMrkZ5p"
      }
    },
    {
      "cell_type": "code",
      "source": [
        "# Import the Google Video Intelligence client library\n",
        "from google.cloud import videointelligence\n",
        "\n",
        "# Create a client to interact with the Video Intelligence API\n",
        "client = videointelligence.VideoIntelligenceServiceClient()\n",
        "\n",
        "# Define the feature we want to use: LABEL_DETECTION\n",
        "features = [videointelligence.Feature.LABEL_DETECTION]\n",
        "\n",
        "# URI of the video stored in Google Cloud Storage (GCS)\n",
        "gcs_uri = \"gs://pjs-munich-datathon-bucket/input/news.mp4\"\n",
        "\n",
        "# Start an asynchronous request to analyze the video\n",
        "operation = client.annotate_video(\n",
        "    features=features,\n",
        "    input_uri=gcs_uri  # Provide the GCS URI of the video (instead of uploading raw content)\n",
        ")\n",
        "\n",
        "# Wait up to 180 seconds for the operation to complete and get the result\n",
        "result = operation.result(timeout=180)\n",
        "\n"
      ],
      "metadata": {
        "id": "1ahfM9J1SDRU"
      },
      "execution_count": 59,
      "outputs": []
    },
    {
      "cell_type": "code",
      "source": [
        "# Import the Google Video Intelligence client library\n",
        "from google.cloud import videointelligence\n",
        "\n",
        "# Create a client to interact with the Video Intelligence API\n",
        "client = videointelligence.VideoIntelligenceServiceClient()\n",
        "\n",
        "# Define the feature we want to use: LABEL_DETECTION\n",
        "features = [videointelligence.Feature.LABEL_DETECTION]\n",
        "\n",
        "# URI of the video stored in Google Cloud Storage (GCS)\n",
        "gcs_uri = \"gs://pjs-munich-datathon-bucket/input/news.mp4\"\n",
        "\n",
        "# Start an asynchronous request to analyze the video\n",
        "operation = client.annotate_video(\n",
        "    features=features,\n",
        "    input_uri=gcs_uri  # Provide the GCS URI of the video (instead of uploading raw content)\n",
        ")\n",
        "\n",
        "# Wait up to 180 seconds for the operation to complete and get the result\n",
        "result = operation.result(timeout=180)\n"
      ],
      "metadata": {
        "id": "SJ3jXUIylymO"
      },
      "execution_count": 60,
      "outputs": []
    },
    {
      "cell_type": "code",
      "source": [
        "# Prepare empty lists to store shot segments and entity descriptions\n",
        "segments = []\n",
        "entities = []\n",
        "confidences = []\n",
        "\n",
        "# Extract the annotation results (only one result usually, since one video is processed)\n",
        "annotation_results = result.annotation_results\n",
        "\n",
        "# Loop over each label annotation in the results\n",
        "for label in annotation_results:\n",
        "    # Go through each detected shot label\n",
        "    for shot_label_annotation in label.shot_label_annotations:\n",
        "        # Save all the time segments where the label was detected\n",
        "        segments.append(shot_label_annotation.segments)\n",
        "\n",
        "        # Save the description of the entity (the label name, e.g., \"Italy\", \"Team sport\")\n",
        "        entities.append(shot_label_annotation.entity.description)\n",
        "\n",
        "        # Access confidence from the segment instead of entity\n",
        "        for segment in shot_label_annotation.segments:\n",
        "            confidences.append(segment.confidence)\n",
        "\n",
        "# Output the list of entity descriptions detected in the video\n",
        "# Convert the zip object to a list and then slice it\n",
        "for e, s, c in list(zip(entities, segments, confidences))[:10]:\n",
        "    # Format the output for better readability\n",
        "    print(f\"Entity: {e}\")\n",
        "    print(f\"Confidence: {c}\")\n",
        "    for segment in s:  # Iterate through the segments in 's'\n",
        "        start_time = segment.segment.start_time_offset.seconds + segment.segment.start_time_offset.microseconds / 1e6\n",
        "        end_time = segment.segment.end_time_offset.seconds + segment.segment.end_time_offset.microseconds / 1e6\n",
        "        print(f\"  - {start_time:.3f}s to {end_time:.3f}s\")  # Format with 3 decimal places\n",
        "\n",
        "    print(\"-\" * 20)  # Add a separator between entries"
      ],
      "metadata": {
        "colab": {
          "base_uri": "https://localhost:8080/"
        },
        "id": "Gik4t7BAsLJJ",
        "outputId": "dc74985f-775c-42e1-be3b-882ccecc968b"
      },
      "execution_count": 61,
      "outputs": [
        {
          "output_type": "stream",
          "name": "stdout",
          "text": [
            "Entity: traffic\n",
            "Confidence: 0.8570924401283264\n",
            "  - 253.100s to 258.560s\n",
            "  - 262.260s to 263.100s\n",
            "  - 263.920s to 264.300s\n",
            "  - 264.720s to 265.480s\n",
            "  - 270.780s to 273.800s\n",
            "  - 275.580s to 279.720s\n",
            "  - 279.740s to 284.000s\n",
            "--------------------\n",
            "Entity: eyewear\n",
            "Confidence: 0.9705125093460083\n",
            "  - 95.380s to 107.080s\n",
            "  - 355.620s to 360.160s\n",
            "--------------------\n",
            "Entity: wall\n",
            "Confidence: 0.9454449415206909\n",
            "  - 113.980s to 116.200s\n",
            "--------------------\n",
            "Entity: structure\n",
            "Confidence: 0.922359049320221\n",
            "  - 113.980s to 116.200s\n",
            "  - 546.180s to 548.240s\n",
            "--------------------\n",
            "Entity: sports\n",
            "Confidence: 0.8570924401283264\n",
            "  - 284.020s to 291.440s\n",
            "  - 758.380s to 763.840s\n",
            "  - 763.860s to 772.520s\n",
            "  - 772.540s to 774.400s\n",
            "  - 774.420s to 782.560s\n",
            "  - 782.580s to 784.880s\n",
            "  - 784.900s to 793.160s\n",
            "  - 793.180s to 796.160s\n",
            "  - 796.180s to 804.720s\n",
            "  - 804.740s to 808.040s\n",
            "  - 808.060s to 813.080s\n",
            "  - 816.260s to 817.980s\n",
            "  - 818.000s to 820.400s\n",
            "--------------------\n",
            "Entity: disaster\n",
            "Confidence: 0.9134947657585144\n",
            "  - 291.460s to 298.520s\n",
            "  - 300.860s to 304.920s\n",
            "  - 304.940s to 307.200s\n",
            "  - 313.860s to 317.600s\n",
            "--------------------\n",
            "Entity: urban design\n",
            "Confidence: 0.9134947657585144\n",
            "  - 107.100s to 109.520s\n",
            "  - 680.900s to 685.360s\n",
            "--------------------\n",
            "Entity: bird's eye view\n",
            "Confidence: 0.37252840399742126\n",
            "  - 304.940s to 307.200s\n",
            "  - 680.900s to 685.360s\n",
            "--------------------\n",
            "Entity: italy\n",
            "Confidence: 0.5372567772865295\n",
            "  - 334.860s to 338.720s\n",
            "--------------------\n",
            "Entity: town square\n",
            "Confidence: 0.3147824704647064\n",
            "  - 334.860s to 338.720s\n",
            "--------------------\n"
          ]
        }
      ]
    }
  ]
}
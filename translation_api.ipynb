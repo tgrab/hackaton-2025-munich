{
 "cells": [
  {
   "cell_type": "markdown",
   "id": "3be9a262-4504-4b7b-b964-75842e6e362f",
   "metadata": {
    "tags": []
   },
   "source": [
    "# Setup"
   ]
  },
  {
   "cell_type": "markdown",
   "id": "77915066-0138-426e-9c5c-bcfe203b827e",
   "metadata": {},
   "source": [
    "Before you can begin using the Translation API, run the following command in Cloud Shell to enable the API:"
   ]
  },
  {
   "cell_type": "code",
   "execution_count": 1,
   "id": "94914455-7862-472b-8119-2130dddf896d",
   "metadata": {
    "tags": []
   },
   "outputs": [],
   "source": [
    "!gcloud services enable translate.googleapis.com"
   ]
  },
  {
   "cell_type": "markdown",
   "id": "67149556-c24c-4564-bcb4-b130d58bcd6c",
   "metadata": {
    "tags": []
   },
   "source": [
    "Get the project id (to be used in your application):"
   ]
  },
  {
   "cell_type": "code",
   "execution_count": 2,
   "id": "1eb5da0d-5970-41ea-b3b7-04dfd4b1f37b",
   "metadata": {
    "tags": []
   },
   "outputs": [
    {
     "name": "stdout",
     "output_type": "stream",
     "text": [
      "truster-tester-program\n"
     ]
    }
   ],
   "source": [
    "!echo $(gcloud config get-value core/project)"
   ]
  },
  {
   "cell_type": "markdown",
   "id": "79cb2634-42fd-4575-9012-84b734afdd83",
   "metadata": {},
   "source": [
    "Install IPython and the Translation API client library:"
   ]
  },
  {
   "cell_type": "code",
   "execution_count": 3,
   "id": "66b39130-b34a-4119-808e-dfbfe25af7c2",
   "metadata": {
    "tags": []
   },
   "outputs": [
    {
     "name": "stdout",
     "output_type": "stream",
     "text": [
      "Requirement already satisfied: google-cloud-translate in /opt/conda/lib/python3.10/site-packages (3.20.2)\n",
      "Requirement already satisfied: google-api-core!=2.0.*,!=2.1.*,!=2.10.*,!=2.2.*,!=2.3.*,!=2.4.*,!=2.5.*,!=2.6.*,!=2.7.*,!=2.8.*,!=2.9.*,<3.0.0,>=1.34.1 in /opt/conda/lib/python3.10/site-packages (from google-api-core[grpc]!=2.0.*,!=2.1.*,!=2.10.*,!=2.2.*,!=2.3.*,!=2.4.*,!=2.5.*,!=2.6.*,!=2.7.*,!=2.8.*,!=2.9.*,<3.0.0,>=1.34.1->google-cloud-translate) (2.24.2)\n",
      "Requirement already satisfied: google-auth!=2.24.0,!=2.25.0,<3.0.0,>=2.14.1 in /opt/conda/lib/python3.10/site-packages (from google-cloud-translate) (2.38.0)\n",
      "Requirement already satisfied: google-cloud-core<3.0.0,>=1.4.4 in /opt/conda/lib/python3.10/site-packages (from google-cloud-translate) (2.4.3)\n",
      "Requirement already satisfied: proto-plus<2.0.0,>=1.22.3 in /opt/conda/lib/python3.10/site-packages (from google-cloud-translate) (1.26.1)\n",
      "Requirement already satisfied: protobuf!=4.21.0,!=4.21.1,!=4.21.2,!=4.21.3,!=4.21.4,!=4.21.5,<7.0.0,>=3.20.2 in /opt/conda/lib/python3.10/site-packages (from google-cloud-translate) (3.20.3)\n",
      "Requirement already satisfied: grpc-google-iam-v1<1.0.0,>=0.14.0 in /opt/conda/lib/python3.10/site-packages (from google-cloud-translate) (0.14.2)\n",
      "Requirement already satisfied: googleapis-common-protos<2.0.0,>=1.56.2 in /opt/conda/lib/python3.10/site-packages (from google-api-core!=2.0.*,!=2.1.*,!=2.10.*,!=2.2.*,!=2.3.*,!=2.4.*,!=2.5.*,!=2.6.*,!=2.7.*,!=2.8.*,!=2.9.*,<3.0.0,>=1.34.1->google-api-core[grpc]!=2.0.*,!=2.1.*,!=2.10.*,!=2.2.*,!=2.3.*,!=2.4.*,!=2.5.*,!=2.6.*,!=2.7.*,!=2.8.*,!=2.9.*,<3.0.0,>=1.34.1->google-cloud-translate) (1.69.2)\n",
      "Requirement already satisfied: requests<3.0.0,>=2.18.0 in /opt/conda/lib/python3.10/site-packages (from google-api-core!=2.0.*,!=2.1.*,!=2.10.*,!=2.2.*,!=2.3.*,!=2.4.*,!=2.5.*,!=2.6.*,!=2.7.*,!=2.8.*,!=2.9.*,<3.0.0,>=1.34.1->google-api-core[grpc]!=2.0.*,!=2.1.*,!=2.10.*,!=2.2.*,!=2.3.*,!=2.4.*,!=2.5.*,!=2.6.*,!=2.7.*,!=2.8.*,!=2.9.*,<3.0.0,>=1.34.1->google-cloud-translate) (2.32.3)\n",
      "Requirement already satisfied: grpcio<2.0dev,>=1.33.2 in /opt/conda/lib/python3.10/site-packages (from google-api-core[grpc]!=2.0.*,!=2.1.*,!=2.10.*,!=2.2.*,!=2.3.*,!=2.4.*,!=2.5.*,!=2.6.*,!=2.7.*,!=2.8.*,!=2.9.*,<3.0.0,>=1.34.1->google-cloud-translate) (1.71.0)\n",
      "Requirement already satisfied: grpcio-status<2.0.dev0,>=1.33.2 in /opt/conda/lib/python3.10/site-packages (from google-api-core[grpc]!=2.0.*,!=2.1.*,!=2.10.*,!=2.2.*,!=2.3.*,!=2.4.*,!=2.5.*,!=2.6.*,!=2.7.*,!=2.8.*,!=2.9.*,<3.0.0,>=1.34.1->google-cloud-translate) (1.49.0rc1)\n",
      "Requirement already satisfied: cachetools<6.0,>=2.0.0 in /opt/conda/lib/python3.10/site-packages (from google-auth!=2.24.0,!=2.25.0,<3.0.0,>=2.14.1->google-cloud-translate) (5.5.2)\n",
      "Requirement already satisfied: pyasn1-modules>=0.2.1 in /opt/conda/lib/python3.10/site-packages (from google-auth!=2.24.0,!=2.25.0,<3.0.0,>=2.14.1->google-cloud-translate) (0.4.2)\n",
      "Requirement already satisfied: rsa<5,>=3.1.4 in /opt/conda/lib/python3.10/site-packages (from google-auth!=2.24.0,!=2.25.0,<3.0.0,>=2.14.1->google-cloud-translate) (4.9)\n",
      "Requirement already satisfied: pyasn1<0.7.0,>=0.6.1 in /opt/conda/lib/python3.10/site-packages (from pyasn1-modules>=0.2.1->google-auth!=2.24.0,!=2.25.0,<3.0.0,>=2.14.1->google-cloud-translate) (0.6.1)\n",
      "Requirement already satisfied: charset_normalizer<4,>=2 in /opt/conda/lib/python3.10/site-packages (from requests<3.0.0,>=2.18.0->google-api-core!=2.0.*,!=2.1.*,!=2.10.*,!=2.2.*,!=2.3.*,!=2.4.*,!=2.5.*,!=2.6.*,!=2.7.*,!=2.8.*,!=2.9.*,<3.0.0,>=1.34.1->google-api-core[grpc]!=2.0.*,!=2.1.*,!=2.10.*,!=2.2.*,!=2.3.*,!=2.4.*,!=2.5.*,!=2.6.*,!=2.7.*,!=2.8.*,!=2.9.*,<3.0.0,>=1.34.1->google-cloud-translate) (3.4.1)\n",
      "Requirement already satisfied: idna<4,>=2.5 in /opt/conda/lib/python3.10/site-packages (from requests<3.0.0,>=2.18.0->google-api-core!=2.0.*,!=2.1.*,!=2.10.*,!=2.2.*,!=2.3.*,!=2.4.*,!=2.5.*,!=2.6.*,!=2.7.*,!=2.8.*,!=2.9.*,<3.0.0,>=1.34.1->google-api-core[grpc]!=2.0.*,!=2.1.*,!=2.10.*,!=2.2.*,!=2.3.*,!=2.4.*,!=2.5.*,!=2.6.*,!=2.7.*,!=2.8.*,!=2.9.*,<3.0.0,>=1.34.1->google-cloud-translate) (3.10)\n",
      "Requirement already satisfied: urllib3<3,>=1.21.1 in /opt/conda/lib/python3.10/site-packages (from requests<3.0.0,>=2.18.0->google-api-core!=2.0.*,!=2.1.*,!=2.10.*,!=2.2.*,!=2.3.*,!=2.4.*,!=2.5.*,!=2.6.*,!=2.7.*,!=2.8.*,!=2.9.*,<3.0.0,>=1.34.1->google-api-core[grpc]!=2.0.*,!=2.1.*,!=2.10.*,!=2.2.*,!=2.3.*,!=2.4.*,!=2.5.*,!=2.6.*,!=2.7.*,!=2.8.*,!=2.9.*,<3.0.0,>=1.34.1->google-cloud-translate) (1.26.20)\n",
      "Requirement already satisfied: certifi>=2017.4.17 in /opt/conda/lib/python3.10/site-packages (from requests<3.0.0,>=2.18.0->google-api-core!=2.0.*,!=2.1.*,!=2.10.*,!=2.2.*,!=2.3.*,!=2.4.*,!=2.5.*,!=2.6.*,!=2.7.*,!=2.8.*,!=2.9.*,<3.0.0,>=1.34.1->google-api-core[grpc]!=2.0.*,!=2.1.*,!=2.10.*,!=2.2.*,!=2.3.*,!=2.4.*,!=2.5.*,!=2.6.*,!=2.7.*,!=2.8.*,!=2.9.*,<3.0.0,>=1.34.1->google-cloud-translate) (2025.1.31)\n"
     ]
    }
   ],
   "source": [
    "!pip install google-cloud-translate"
   ]
  },
  {
   "cell_type": "code",
   "execution_count": 4,
   "id": "d77c0862-4123-45bc-850c-57d9809f7668",
   "metadata": {
    "tags": []
   },
   "outputs": [],
   "source": [
    "from os import environ\n",
    "\n",
    "from google.cloud import translate"
   ]
  },
  {
   "cell_type": "code",
   "execution_count": 5,
   "id": "982a370e-c7c8-4bbc-b3ea-6fad3469b114",
   "metadata": {
    "tags": []
   },
   "outputs": [],
   "source": [
    "PROJECT_ID = 'truster-tester-program'\n",
    "PARENT = f\"projects/{PROJECT_ID}\""
   ]
  },
  {
   "cell_type": "markdown",
   "id": "c477e895-d3c2-485b-94c9-d9fa626c9bc5",
   "metadata": {},
   "source": [
    "The PARENT variable will be used for requests in the next steps. It refers to the caller's project."
   ]
  },
  {
   "cell_type": "markdown",
   "id": "2faa7226-0094-4d93-86fb-de846893882e",
   "metadata": {
    "tags": []
   },
   "source": [
    "# List available languages"
   ]
  },
  {
   "cell_type": "code",
   "execution_count": 6,
   "id": "8284e2bc-5f0f-4332-969b-3c1c3b9cbe05",
   "metadata": {
    "tags": []
   },
   "outputs": [],
   "source": [
    "def print_supported_languages(display_language_code: str):\n",
    "    client = translate.TranslationServiceClient()\n",
    "\n",
    "    response = client.get_supported_languages(\n",
    "        parent=PARENT,\n",
    "        display_language_code=display_language_code,\n",
    "    )\n",
    "\n",
    "    languages = response.languages\n",
    "    print(f\" Languages: {len(languages)} \".center(60, \"-\"))\n",
    "    for language in languages:\n",
    "        language_code = language.language_code\n",
    "        display_name = language.display_name\n",
    "        print(f\"{language_code:10}{display_name}\")"
   ]
  },
  {
   "cell_type": "code",
   "execution_count": 7,
   "id": "66a52e76-b22a-4486-8ce1-81a333cf8063",
   "metadata": {
    "tags": []
   },
   "outputs": [
    {
     "name": "stdout",
     "output_type": "stream",
     "text": [
      "---------------------- Languages: 194 ----------------------\n",
      "ab        Abkhaz\n",
      "ace       Acehnese\n",
      "ach       Acholi\n",
      "af        Afrikaans\n",
      "sq        Albanian\n",
      "alz       Alur\n",
      "am        Amharic\n",
      "ar        Arabic\n",
      "hy        Armenian\n",
      "as        Assamese\n",
      "awa       Awadhi\n",
      "ay        Aymara\n",
      "az        Azerbaijani\n",
      "ban       Balinese\n",
      "bm        Bambara\n",
      "ba        Bashkir\n",
      "eu        Basque\n",
      "btx       Batak Karo\n",
      "bts       Batak Simalungun\n",
      "bbc       Batak Toba\n",
      "be        Belarusian\n",
      "bem       Bemba\n",
      "bn        Bengali\n",
      "bew       Betawi\n",
      "bho       Bhojpuri\n",
      "bik       Bikol\n",
      "bs        Bosnian\n",
      "br        Breton\n",
      "bg        Bulgarian\n",
      "bua       Buryat\n",
      "yue       Cantonese\n",
      "ca        Catalan\n",
      "ceb       Cebuano\n",
      "ny        Chichewa\n",
      "zh        Chinese (Simplified)\n",
      "zh-CN     Chinese (Simplified)\n",
      "zh-TW     Chinese (Traditional)\n",
      "cv        Chuvash\n",
      "co        Corsican\n",
      "crh       Crimean Tatar\n",
      "hr        Croatian\n",
      "cs        Czech\n",
      "da        Danish\n",
      "dv        Dhivehi\n",
      "din       Dinka\n",
      "doi       Dogri\n",
      "dov       Dombe\n",
      "nl        Dutch\n",
      "dz        Dzongkha\n",
      "en        English\n",
      "eo        Esperanto\n",
      "et        Estonian\n",
      "ee        Ewe\n",
      "fj        Fijian\n",
      "tl        Filipino\n",
      "fil       Filipino\n",
      "fi        Finnish\n",
      "fr        French\n",
      "fy        Frisian\n",
      "ff        Fulani\n",
      "gaa       Ga\n",
      "gl        Galician\n",
      "ka        Georgian\n",
      "de        German\n",
      "el        Greek\n",
      "gn        Guarani\n",
      "gu        Gujarati\n",
      "ht        Haitian Creole\n",
      "cnh       Hakha Chin\n",
      "ha        Hausa\n",
      "haw       Hawaiian\n",
      "iw        Hebrew\n",
      "he        Hebrew\n",
      "hil       Hiligaynon\n",
      "hi        Hindi\n",
      "hmn       Hmong\n",
      "hu        Hungarian\n",
      "hrx       Hunsrik\n",
      "is        Icelandic\n",
      "ig        Igbo\n",
      "ilo       Ilocano\n",
      "id        Indonesian\n",
      "ga        Irish\n",
      "it        Italian\n",
      "ja        Japanese\n",
      "jw        Javanese\n",
      "jv        Javanese\n",
      "kn        Kannada\n",
      "pam       Kapampangan\n",
      "kk        Kazakh\n",
      "km        Khmer\n",
      "cgg       Kiga\n",
      "rw        Kinyarwanda\n",
      "ktu       Kituba\n",
      "gom       Konkani\n",
      "ko        Korean\n",
      "kri       Krio\n",
      "ku        Kurdish (Kurmanji)\n",
      "ckb       Kurdish (Sorani)\n",
      "ky        Kyrgyz\n",
      "lo        Lao\n",
      "ltg       Latgalian\n",
      "la        Latin\n",
      "lv        Latvian\n",
      "lij       Ligurian\n",
      "li        Limburgish\n",
      "ln        Lingala\n",
      "lt        Lithuanian\n",
      "lmo       Lombard\n",
      "lg        Luganda\n",
      "luo       Luo\n",
      "lb        Luxembourgish\n",
      "mk        Macedonian\n",
      "mai       Maithili\n",
      "mak       Makassar\n",
      "mg        Malagasy\n",
      "ms        Malay\n",
      "ms-Arab   Malay (Jawi)\n",
      "ml        Malayalam\n",
      "mt        Maltese\n",
      "mi        Maori\n",
      "mr        Marathi\n",
      "chm       Meadow Mari\n",
      "mni-Mtei  Meiteilon (Manipuri)\n",
      "min       Minang\n",
      "lus       Mizo\n",
      "mn        Mongolian\n",
      "my        Myanmar (Burmese)\n",
      "nr        Ndebele (South)\n",
      "new       Nepalbhasa (Newari)\n",
      "ne        Nepali\n",
      "no        Norwegian\n",
      "nus       Nuer\n",
      "oc        Occitan\n",
      "or        Odia (Oriya)\n",
      "om        Oromo\n",
      "pag       Pangasinan\n",
      "pap       Papiamento\n",
      "ps        Pashto\n",
      "fa        Persian\n",
      "pl        Polish\n",
      "pt        Portuguese (Brazil)\n",
      "pa        Punjabi (Gurmukhi)\n",
      "pa-Arab   Punjabi (Shahmukhi)\n",
      "qu        Quechua\n",
      "rom       Romani\n",
      "ro        Romanian\n",
      "rn        Rundi\n",
      "ru        Russian\n",
      "sm        Samoan\n",
      "sg        Sango\n",
      "sa        Sanskrit\n",
      "gd        Scots Gaelic\n",
      "nso       Sepedi\n",
      "sr        Serbian\n",
      "st        Sesotho\n",
      "crs       Seychellois Creole\n",
      "shn       Shan\n",
      "sn        Shona\n",
      "scn       Sicilian\n",
      "szl       Silesian\n",
      "sd        Sindhi\n",
      "si        Sinhala\n",
      "sk        Slovak\n",
      "sl        Slovenian\n",
      "so        Somali\n",
      "es        Spanish\n",
      "su        Sundanese\n",
      "sw        Swahili\n",
      "ss        Swati\n",
      "sv        Swedish\n",
      "tg        Tajik\n",
      "ta        Tamil\n",
      "tt        Tatar\n",
      "te        Telugu\n",
      "tet       Tetum\n",
      "th        Thai\n",
      "ti        Tigrinya\n",
      "ts        Tsonga\n",
      "tn        Tswana\n",
      "tr        Turkish\n",
      "tk        Turkmen\n",
      "ak        Twi\n",
      "uk        Ukrainian\n",
      "ur        Urdu\n",
      "ug        Uyghur\n",
      "uz        Uzbek\n",
      "vi        Vietnamese\n",
      "cy        Welsh\n",
      "xh        Xhosa\n",
      "yi        Yiddish\n",
      "yo        Yoruba\n",
      "yua       Yucatec Maya\n",
      "zu        Zulu\n"
     ]
    }
   ],
   "source": [
    "print_supported_languages(\"en\")"
   ]
  },
  {
   "cell_type": "code",
   "execution_count": null,
   "id": "1d68850f-7c46-4060-8af9-530ab27612aa",
   "metadata": {
    "tags": []
   },
   "outputs": [],
   "source": [
    "print_supported_languages(\"de\")"
   ]
  },
  {
   "cell_type": "markdown",
   "id": "e6764da8-1491-457d-8d8a-56871d65e6bb",
   "metadata": {},
   "source": [
    "# Translate text"
   ]
  },
  {
   "cell_type": "markdown",
   "id": "9373df61-3f61-4cb0-999b-3012800c651d",
   "metadata": {},
   "source": [
    "You can use the Translation API to translate text from one language to another. Text is translated using the Neural Machine Translation (NMT) model. If the NMT model is not supported for the requested language translation pair, the Phrase-Based Machine Translation (PBMT) model is used. For more on Google Translate and its translation models, see the NMT announcement post."
   ]
  },
  {
   "cell_type": "code",
   "execution_count": 8,
   "id": "edcbfe41-5cc3-4097-aa0a-98f4a2eb86e1",
   "metadata": {
    "tags": []
   },
   "outputs": [],
   "source": [
    "def translate_text(text: str, target_language_code: str) -> translate.Translation:\n",
    "    client = translate.TranslationServiceClient()\n",
    "\n",
    "    response = client.translate_text(\n",
    "        parent=PARENT,\n",
    "        contents=[text],\n",
    "        target_language_code=target_language_code,\n",
    "    )\n",
    "\n",
    "    return response.translations[0]\n",
    "    "
   ]
  },
  {
   "cell_type": "markdown",
   "id": "8795b8f0-d2cd-4002-8a8d-34a0814c0b75",
   "metadata": {},
   "source": [
    "Call the function to translate the same text in different languages:\n",
    "\n"
   ]
  },
  {
   "cell_type": "code",
   "execution_count": 9,
   "id": "db1d5634-5be3-4a75-a24c-56dc068c072e",
   "metadata": {
    "tags": []
   },
   "outputs": [
    {
     "name": "stdout",
     "output_type": "stream",
     "text": [
      "------------------ Hello World! ------------------\n",
      "en → tr : Selam Dünya!\n",
      "en → de : Hallo Welt!\n",
      "en → es : ¡Hola Mundo!\n",
      "en → it : Ciao mondo!\n",
      "en → el : Γεια σου Κόσμο!\n",
      "en → zh : 你好世界！\n",
      "en → ja : 「こんにちは世界」\n",
      "en → ko : 안녕하세요!\n"
     ]
    }
   ],
   "source": [
    "text = \"Hello World!\"\n",
    "target_languages = [\"tr\", \"de\", \"es\", \"it\", \"el\", \"zh\", \"ja\", \"ko\"]\n",
    "\n",
    "print(f\" {text} \".center(50, \"-\"))\n",
    "for target_language in target_languages:\n",
    "    translation = translate_text(text, target_language)\n",
    "    source_language = translation.detected_language_code\n",
    "    translated_text = translation.translated_text\n",
    "    print(f\"{source_language} → {target_language} : {translated_text}\")\n",
    "    "
   ]
  },
  {
   "cell_type": "markdown",
   "id": "cc441a7b-bd48-4882-b5ab-25d99326b8bb",
   "metadata": {},
   "source": [
    "# Translate an article"
   ]
  },
  {
   "cell_type": "code",
   "execution_count": 10,
   "id": "4de7f80a-f1a0-4703-beae-785ddc81b781",
   "metadata": {
    "tags": []
   },
   "outputs": [],
   "source": [
    "text = \"\"\"\n",
    "Die Staatsanwaltschaft ermittelt nach dem Tod der 33-jährigen Surferin an der Eisbachwelle im Englischen Garten in München. Im Moment darf niemand mehr ins Wasser. Aber ist Surfen dort grundsätzlich gefährlich? Gefährlicher als Surfen im Meer?\n",
    "\n",
    "Zum Artikel: \"Schwer Glück gehabt\": Surfer erzählt von eigenem Unfall an Isar\n",
    "Erfahrene Eisbach-Surfer sagen, es sei ein großer Unterschied, ob man in einem Fluss surft oder im Meer. Die Welle komme aus der anderen Richtung und habe einen Auftrieb, sagt Sophia. Sie surft seit neun Jahren an der Eisbachwelle und steht dort zwei bis drei Mal in der Woche auf dem Surfbrett.\n",
    "\n",
    "Eisbachwelle kein Anfänger-Spot\n",
    "\n",
    "Die Eisbachwelle sei aber beileibe keine Surf-Spot für Anfänger, erklärt der BR-Journalist Mike Lingenfelser, der dort seit den Anfängen der Welle in den 1980er-Jahren surft. Nur erfahrene Surfer sollten dort ins Wasser gehen, sagt er. Ganz wichtig ist für ihn dabei der Umgang mit der Leash, also der Sicherungsleine. Die Leash ist eine Leine, die den Surfer mit seinem Brett verbindet. Sie wird mit einem Klettverschluss am Körper befestigt, meistens am Unterschenkel, damit das Brett nicht abtreibt, wenn man absteigt oder herunterfällt.\n",
    "\n",
    "Laut Lingenfelser muss man in der Lage sein, seine Leash blind unter Wasser öffnen zu können. Man könne das auch mal als Trockenübung im Wohnzimmer versuchen, erklärt der Hobbysurfer. Die Augen schließen, mit der Hand bis zum Knöchel vortasten und dann versuchen, dieses Sicherungsseil, an dem es eine Reißlasche gibt, mit einem Griff zu öffnen.\n",
    "\n",
    "Schutz per Helm und Weste\n",
    "\n",
    "Aber man kann noch mehr machen, um sich zu schützen – zum Beispiel einen Helm tragen, wie die Eisbachsurferin Sophia. Ihr fiel das Brett schon einmal auf den Kopf. Man kann auch noch eine Weste tragen, die Auftrieb gibt, wenn man ins Wasser fällt. Ganz wichtig aus Lingenfelsers Sicht: Man solle nie allein surfen. Und: Immer aufmerksam schauen, wo die anderen Surfer gerade sind und ob sie nach einem Sturz vom Brett wieder auf der Wasseroberfläche auftauchen.\n",
    "\n",
    "Kein hundertprozentiger Schutz – Training senkt Risiko\n",
    "\n",
    "Aber eine hundertprozentige Sicherheit gebe es bei diesem Sport nicht, sagt Lingenfelser. Es bleibe bei Extremsportarten ein Restrisiko, das man vielleicht nicht zu hundert Prozent ausschalten kann. Man könne es minimieren durch viel Erfahrung, durch Training und bestimmte Sicherheitsmaßnahmen.\n",
    "\n",
    "Die Eisbachwelle gibt es seit rund 40 Jahren, und natürlich hätten sich Surfer dort immer wieder mal verletzt, wie beide Surfer berichten. Aber schwere oder tödliche Unfälle hatte es bis jetzt in München nicht gegeben. Die Surfer hoffen deshalb, dass, wenn die Untersuchungen der Staatsanwaltschaft beendet sind, die Welle von der Stadt München wieder freigegeben wird.\n",
    "\n",
    "Eisbach wird jetzt abgesenkt\n",
    "\n",
    "Am Mittwoch – zwei Wochen nach dem Unglück – soll das Wasser am Eisbach abgesenkt werden, wie die Staatsanwaltschaft München I mitteilte. Von dieser Maßnahme erhofft man sich, mehr über die Todesursache der jungen Surferin zu erfahren.\n",
    "\n",
    "Ihre Leash hatte sich aus unbekannten Gründen am Grund des Eisbachs verhakt. Die Frau konnte sich wegen der starken Strömung nicht selbst befreien. Auch andere Surfer scheiterten. Erst Feuerwehrleuten gelang es, die Leine mit einem Tauchermesser zu durchtrennen und die Frau so zu befreien. Woran sich die Leine oder das Brett verfangen haben könnte, ist bislang unbekannt.\"\"\""
   ]
  },
  {
   "cell_type": "code",
   "execution_count": 11,
   "id": "955db260-66ba-4715-97a4-fefa36da8a1f",
   "metadata": {
    "tags": []
   },
   "outputs": [],
   "source": [
    "target_languages = [\"pl\"]"
   ]
  },
  {
   "cell_type": "code",
   "execution_count": 12,
   "id": "9beb8459-b6d9-48e8-920f-82a46623e90c",
   "metadata": {
    "tags": []
   },
   "outputs": [
    {
     "name": "stdout",
     "output_type": "stream",
     "text": [
      " \n",
      "Die Staatsanwaltschaft ermittelt nach dem Tod der 33-jährigen Surferin an der Eisbachwelle im Englischen Garten in München. Im Moment darf niemand mehr ins Wasser. Aber ist Surfen dort grundsätzlich gefährlich? Gefährlicher als Surfen im Meer?\n",
      "\n",
      "Zum Artikel: \"Schwer Glück gehabt\": Surfer erzählt von eigenem Unfall an Isar\n",
      "Erfahrene Eisbach-Surfer sagen, es sei ein großer Unterschied, ob man in einem Fluss surft oder im Meer. Die Welle komme aus der anderen Richtung und habe einen Auftrieb, sagt Sophia. Sie surft seit neun Jahren an der Eisbachwelle und steht dort zwei bis drei Mal in der Woche auf dem Surfbrett.\n",
      "\n",
      "Eisbachwelle kein Anfänger-Spot\n",
      "\n",
      "Die Eisbachwelle sei aber beileibe keine Surf-Spot für Anfänger, erklärt der BR-Journalist Mike Lingenfelser, der dort seit den Anfängen der Welle in den 1980er-Jahren surft. Nur erfahrene Surfer sollten dort ins Wasser gehen, sagt er. Ganz wichtig ist für ihn dabei der Umgang mit der Leash, also der Sicherungsleine. Die Leash ist eine Leine, die den Surfer mit seinem Brett verbindet. Sie wird mit einem Klettverschluss am Körper befestigt, meistens am Unterschenkel, damit das Brett nicht abtreibt, wenn man absteigt oder herunterfällt.\n",
      "\n",
      "Laut Lingenfelser muss man in der Lage sein, seine Leash blind unter Wasser öffnen zu können. Man könne das auch mal als Trockenübung im Wohnzimmer versuchen, erklärt der Hobbysurfer. Die Augen schließen, mit der Hand bis zum Knöchel vortasten und dann versuchen, dieses Sicherungsseil, an dem es eine Reißlasche gibt, mit einem Griff zu öffnen.\n",
      "\n",
      "Schutz per Helm und Weste\n",
      "\n",
      "Aber man kann noch mehr machen, um sich zu schützen – zum Beispiel einen Helm tragen, wie die Eisbachsurferin Sophia. Ihr fiel das Brett schon einmal auf den Kopf. Man kann auch noch eine Weste tragen, die Auftrieb gibt, wenn man ins Wasser fällt. Ganz wichtig aus Lingenfelsers Sicht: Man solle nie allein surfen. Und: Immer aufmerksam schauen, wo die anderen Surfer gerade sind und ob sie nach einem Sturz vom Brett wieder auf der Wasseroberfläche auftauchen.\n",
      "\n",
      "Kein hundertprozentiger Schutz – Training senkt Risiko\n",
      "\n",
      "Aber eine hundertprozentige Sicherheit gebe es bei diesem Sport nicht, sagt Lingenfelser. Es bleibe bei Extremsportarten ein Restrisiko, das man vielleicht nicht zu hundert Prozent ausschalten kann. Man könne es minimieren durch viel Erfahrung, durch Training und bestimmte Sicherheitsmaßnahmen.\n",
      "\n",
      "Die Eisbachwelle gibt es seit rund 40 Jahren, und natürlich hätten sich Surfer dort immer wieder mal verletzt, wie beide Surfer berichten. Aber schwere oder tödliche Unfälle hatte es bis jetzt in München nicht gegeben. Die Surfer hoffen deshalb, dass, wenn die Untersuchungen der Staatsanwaltschaft beendet sind, die Welle von der Stadt München wieder freigegeben wird.\n",
      "\n",
      "Eisbach wird jetzt abgesenkt\n",
      "\n",
      "Am Mittwoch – zwei Wochen nach dem Unglück – soll das Wasser am Eisbach abgesenkt werden, wie die Staatsanwaltschaft München I mitteilte. Von dieser Maßnahme erhofft man sich, mehr über die Todesursache der jungen Surferin zu erfahren.\n",
      "\n",
      "Ihre Leash hatte sich aus unbekannten Gründen am Grund des Eisbachs verhakt. Die Frau konnte sich wegen der starken Strömung nicht selbst befreien. Auch andere Surfer scheiterten. Erst Feuerwehrleuten gelang es, die Leine mit einem Tauchermesser zu durchtrennen und die Frau so zu befreien. Woran sich die Leine oder das Brett verfangen haben könnte, ist bislang unbekannt. \n",
      "de → pl : \n",
      "Prokuratura prowadzi śledztwo w sprawie śmierci 33-letniego surfera, który zginął na fali Eisbach w Ogrodzie Angielskim w Monachium. W tej chwili nikomu nie wolno wchodzić do wody. Ale czy surfowanie w tym miejscu jest z natury niebezpieczne? Czy jest to bardziej niebezpieczne niż surfowanie w morzu? Do artykułu: „Mieliśmy dużo szczęścia”: Surfer opowiada o swoim wypadku na Izarze. Doświadczeni surferzy z Eisbach twierdzą, że jest duża różnica między surfowaniem w rzece i w morzu. Fala przychodzi z przeciwnego kierunku i ma wyporność – mówi Sophia. Od dziewięciu lat uprawia surfing na fali Eisbach i robi to dwa, trzy razy w tygodniu. Fala Eisbach nie jest miejscem dla początkujących Fala Eisbach nie jest w żadnym wypadku miejscem do surfowania dla początkujących, wyjaśnia dziennikarz BR Mike Lingenfelser, który surfuje tam od lat 80., czyli od początku istnienia tej fali. Według niego, tylko doświadczeni surferzy powinni wchodzić do wody w tym miejscu. Bardzo ważne jest, aby umiał używać smyczy i linki bezpieczeństwa. Smycz to lina łącząca surfera z deską. Mocuje się ją do ciała za pomocą zapięcia na rzep, zwykle na dolnej części nogi, dzięki czemu deska nie przemieszcza się podczas zsiadania lub upadku. Według Lingenfelsera, pod wodą trzeba umieć otwierać smycz na ślepo. Jak wyjaśnia amator surfingu, możesz też wypróbować tę metodę na sucho w swoim salonie. Zamknij oczy, dotrzyj dłonią do kostki, a następnie spróbuj jednym chwytem rozerwać linę zabezpieczającą z zapięciem typu „rip”. Ochrona za pomocą kasku i kamizelki Możesz jednak zrobić jeszcze więcej, aby się chronić – na przykład załóż kask, tak jak surferka z Eisbach, Sophia. Deska spadła jej kiedyś na głowę. Możesz również założyć kamizelkę, która zapewni ci wyporność, jeśli wpadniesz do wody. Z punktu widzenia Lingenfelsera bardzo ważne jest: nigdy nie należy surfować samemu. I: Zawsze zwracaj uwagę na to, gdzie znajdują się inni surferzy i czy wypływają na powierzchnię po upadku z deski. Brak 100% ochrony – trening zmniejsza ryzyko Jednak w tym sporcie nie ma stuprocentowego bezpieczeństwa – twierdzi Lingenfelser. W sportach ekstremalnych istnieje ryzyko resztkowe, którego nie da się całkowicie wyeliminować. Można temu zapobiec poprzez duże doświadczenie, szkolenia i pewne środki bezpieczeństwa. Fala Eisbach istnieje od około 40 lat i oczywiście od czasu do czasu surferzy odnoszą tam kontuzje, o czym informują obaj surferzy. Jak dotąd w Monachium nie doszło do żadnego poważnego ani śmiertelnego wypadku. Surferzy mają więc nadzieję, że po zakończeniu śledztwa prokuratury fala zostanie ponownie otwarta przez miasto Monachium. Rozpoczęto prace nad obniżeniem poziomu wody w Eisbach W środę – dwa tygodnie po wypadku – poziom wody w Eisbach ma zostać obniżony, poinformowała prokuratura w Monachium I. Mamy nadzieję, że środek ten pozwoli uzyskać więcej informacji na temat przyczyny śmierci młodego surfera. Z nieznanych przyczyn jej smycz zaczepiła się o spód Eisbacha. Kobieta nie była w stanie uwolnić się z powodu silnego prądu. Inni surferzy także ponieśli porażkę. Dopiero strażakom udało się przeciąć linę nożem i uwolnić kobietę. Nadal nie wiadomo, o co mogła zahaczyć lina lub deska.\n"
     ]
    }
   ],
   "source": [
    "print(f\" {text} \".center(50, \"-\"))\n",
    "for target_language in target_languages:\n",
    "    translation = translate_text(text, target_language)\n",
    "    source_language = translation.detected_language_code\n",
    "    translated_text = translation.translated_text\n",
    "    print(f\"{source_language} → {target_language} : {translated_text}\")\n",
    "    "
   ]
  },
  {
   "cell_type": "markdown",
   "id": "6f9ab06d-9979-485f-82e7-3dfc21e2ee2d",
   "metadata": {},
   "source": [
    "# Detect languages"
   ]
  },
  {
   "cell_type": "markdown",
   "id": "dab2c5fd-400d-4cfc-b46e-b55b7a959be8",
   "metadata": {},
   "source": [
    "You can also use the Translation API to detect the language of a text string."
   ]
  },
  {
   "cell_type": "code",
   "execution_count": 13,
   "id": "18c3a5e7-02a0-4e10-a9eb-2feffe49e150",
   "metadata": {
    "tags": []
   },
   "outputs": [],
   "source": [
    "def detect_language(text: str) -> translate.DetectedLanguage:\n",
    "    client = translate.TranslationServiceClient()\n",
    "\n",
    "    response = client.detect_language(parent=PARENT, content=text)\n",
    "\n",
    "    return response.languages[0]\n"
   ]
  },
  {
   "cell_type": "code",
   "execution_count": 14,
   "id": "d4c43dd9-a9a7-43d8-97a3-678ce4dc81be",
   "metadata": {
    "tags": []
   },
   "outputs": [
    {
     "name": "stdout",
     "output_type": "stream",
     "text": [
      "Confidence: 100% | Language: tr    | Selam Dünya!\n",
      "Confidence:  79% | Language: de    | Hallo Welt!\n",
      "Confidence: 100% | Language: es    | ¡Hola Mundo!\n",
      "Confidence: 100% | Language: it    | Ciao mondo!\n",
      "Confidence: 100% | Language: el    | Γεια σου Κόσμο!\n",
      "Confidence: 100% | Language: zh-CN | 你好世界！\n",
      "Confidence: 100% | Language: ja    | 「こんにちは世界」\n",
      "Confidence: 100% | Language: ko    | 안녕하세요!\n"
     ]
    }
   ],
   "source": [
    "sentences = [\n",
    "    \"Selam Dünya!\",\n",
    "    \"Hallo Welt!\",\n",
    "    \"¡Hola Mundo!\",\n",
    "    \"Ciao mondo!\",\n",
    "    \"Γεια σου Κόσμο!\",\n",
    "    \"你好世界！\",\n",
    "    \"「こんにちは世界」\",\n",
    "    \"안녕하세요!\",\n",
    "]\n",
    "for sentence in sentences:\n",
    "    language = detect_language(sentence)\n",
    "    confidence = language.confidence\n",
    "    language_code = language.language_code\n",
    "    print(\n",
    "        f\"Confidence: {confidence:4.0%}\",\n",
    "        f\"Language: {language_code:5}\",\n",
    "        sentence,\n",
    "        sep=\" | \",\n",
    "    )\n",
    "    "
   ]
  },
  {
   "cell_type": "code",
   "execution_count": null,
   "id": "4d05c5bf-0834-4ae6-9028-8224b4ff6729",
   "metadata": {},
   "outputs": [],
   "source": []
  }
 ],
 "metadata": {
  "environment": {
   "kernel": "conda-base-py",
   "name": "workbench-notebooks.m129",
   "type": "gcloud",
   "uri": "us-docker.pkg.dev/deeplearning-platform-release/gcr.io/workbench-notebooks:m129"
  },
  "kernelspec": {
   "display_name": "Python 3 (ipykernel) (Local)",
   "language": "python",
   "name": "conda-base-py"
  },
  "language_info": {
   "codemirror_mode": {
    "name": "ipython",
    "version": 3
   },
   "file_extension": ".py",
   "mimetype": "text/x-python",
   "name": "python",
   "nbconvert_exporter": "python",
   "pygments_lexer": "ipython3",
   "version": "3.10.16"
  }
 },
 "nbformat": 4,
 "nbformat_minor": 5
}

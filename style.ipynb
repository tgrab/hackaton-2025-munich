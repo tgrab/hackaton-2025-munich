{
  "cells": [
    {
      "cell_type": "code",
      "execution_count": null,
      "id": "47209ad0",
      "metadata": {},
      "outputs": [],
      "source": [
        "# !pip install -U google-genai"
      ]
    },
    {
      "cell_type": "code",
      "execution_count": null,
      "id": "9oFSNSjBy9kx",
      "metadata": {
        "id": "9oFSNSjBy9kx"
      },
      "outputs": [],
      "source": [
        "from google import genai\n",
        "from google.genai import types\n",
        "from PIL import Image\n",
        "from io import BytesIO\n",
        "\n",
        "import PIL.Image\n",
        "\n",
        "style = PIL.Image.open('endava_logo_neg_RGB.png')"
      ]
    },
    {
      "cell_type": "code",
      "execution_count": null,
      "id": "7-ksikqg11MK",
      "metadata": {
        "colab": {
          "base_uri": "https://localhost:8080/",
          "height": 502
        },
        "id": "7-ksikqg11MK",
        "outputId": "5eda37e4-ba71-4839-e7fd-19cad4d15d94"
      },
      "outputs": [],
      "source": [
        "# style"
      ]
    },
    {
      "cell_type": "code",
      "execution_count": null,
      "id": "soCgLutpNBRBB1wAaPvvXB4Z",
      "metadata": {
        "colab": {
          "base_uri": "https://localhost:8080/"
        },
        "id": "soCgLutpNBRBB1wAaPvvXB4Z",
        "outputId": "84cb02b9-e09a-4c57-98bb-5df0b5dfa9a2",
        "tags": []
      },
      "outputs": [],
      "source": [
        "from google import genai\n",
        "from google.genai import types\n",
        "from PIL import Image\n",
        "from io import BytesIO\n",
        "import base64\n",
        "\n",
        "# client = genai.Client(vertexai=True, project=\"\", location=\"us-central1\")\n",
        "client = genai.Client(api_key=\"\")\n",
        "\n",
        "# contents = ('Hi, can you create a 3d rendered image of a pig '\n",
        "#             'with wings and a top hat flying over a happy '\n",
        "#             'futuristic scifi city with lots of greenery?')\n",
        "\n",
        "contents = \"Create image of airedale terrier using attached image as style\"\n",
        "\n",
        "response = client.models.generate_content(\n",
        "    model=\"gemini-2.0-flash-exp-image-generation\",\n",
        "    contents=[contents, style],\n",
        "    config=types.GenerateContentConfig(\n",
        "      response_modalities=['TEXT', 'IMAGE']\n",
        "    )\n",
        ")\n",
        "\n",
        "for part in response.candidates[0].content.parts:\n",
        "  if part.text is not None:\n",
        "    print(part.text)\n",
        "  elif part.inline_data is not None:\n",
        "    image = Image.open(BytesIO((part.inline_data.data)))\n",
        "    image.save('out.png')\n",
        "    image.show()"
      ]
    },
    {
      "cell_type": "code",
      "execution_count": null,
      "id": "dmSokPEy05Md",
      "metadata": {
        "colab": {
          "base_uri": "https://localhost:8080/",
          "height": 1000
        },
        "id": "dmSokPEy05Md",
        "outputId": "a38a2419-fb14-4efd-a373-719809c83a7a"
      },
      "outputs": [],
      "source": [
        "image"
      ]
    }
  ],
  "metadata": {
    "colab": {
      "name": "tomaszgrabski (May 6, 2025, 3:14:12 PM)",
      "provenance": []
    },
    "kernelspec": {
      "display_name": "gcp",
      "language": "python",
      "name": "python3"
    },
    "language_info": {
      "codemirror_mode": {
        "name": "ipython",
        "version": 3
      },
      "file_extension": ".py",
      "mimetype": "text/x-python",
      "name": "python",
      "nbconvert_exporter": "python",
      "pygments_lexer": "ipython3",
      "version": "3.11.4"
    }
  },
  "nbformat": 4,
  "nbformat_minor": 5
}

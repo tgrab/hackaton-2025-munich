{
 "cells": [
  {
   "cell_type": "code",
   "execution_count": 1,
   "id": "a29c2fd7-d79f-4228-9fd9-a2c1cf583d56",
   "metadata": {},
   "outputs": [
    {
     "name": "stdout",
     "output_type": "stream",
     "text": [
      "Requirement already satisfied: google-cloud-texttospeech in /Users/tgrab/miniconda3/envs/gcp/lib/python3.11/site-packages (2.14.2)\n",
      "Requirement already satisfied: google-api-core[grpc]!=2.0.*,!=2.1.*,!=2.10.*,!=2.2.*,!=2.3.*,!=2.4.*,!=2.5.*,!=2.6.*,!=2.7.*,!=2.8.*,!=2.9.*,<3.0.0dev,>=1.34.0 in /Users/tgrab/miniconda3/envs/gcp/lib/python3.11/site-packages (from google-cloud-texttospeech) (2.19.0)\n",
      "Requirement already satisfied: proto-plus<2.0.0dev,>=1.22.0 in /Users/tgrab/miniconda3/envs/gcp/lib/python3.11/site-packages (from google-cloud-texttospeech) (1.22.3)\n",
      "Requirement already satisfied: protobuf!=3.20.0,!=3.20.1,!=4.21.0,!=4.21.1,!=4.21.2,!=4.21.3,!=4.21.4,!=4.21.5,<5.0.0dev,>=3.19.5 in /Users/tgrab/miniconda3/envs/gcp/lib/python3.11/site-packages (from google-cloud-texttospeech) (4.24.4)\n",
      "Requirement already satisfied: googleapis-common-protos<2.0.dev0,>=1.56.2 in /Users/tgrab/miniconda3/envs/gcp/lib/python3.11/site-packages (from google-api-core[grpc]!=2.0.*,!=2.1.*,!=2.10.*,!=2.2.*,!=2.3.*,!=2.4.*,!=2.5.*,!=2.6.*,!=2.7.*,!=2.8.*,!=2.9.*,<3.0.0dev,>=1.34.0->google-cloud-texttospeech) (1.60.0)\n",
      "Requirement already satisfied: google-auth<3.0.dev0,>=2.14.1 in /Users/tgrab/miniconda3/envs/gcp/lib/python3.11/site-packages (from google-api-core[grpc]!=2.0.*,!=2.1.*,!=2.10.*,!=2.2.*,!=2.3.*,!=2.4.*,!=2.5.*,!=2.6.*,!=2.7.*,!=2.8.*,!=2.9.*,<3.0.0dev,>=1.34.0->google-cloud-texttospeech) (2.26.2)\n",
      "Requirement already satisfied: requests<3.0.0.dev0,>=2.18.0 in /Users/tgrab/miniconda3/envs/gcp/lib/python3.11/site-packages (from google-api-core[grpc]!=2.0.*,!=2.1.*,!=2.10.*,!=2.2.*,!=2.3.*,!=2.4.*,!=2.5.*,!=2.6.*,!=2.7.*,!=2.8.*,!=2.9.*,<3.0.0dev,>=1.34.0->google-cloud-texttospeech) (2.31.0)\n",
      "Requirement already satisfied: grpcio<2.0dev,>=1.33.2 in /Users/tgrab/miniconda3/envs/gcp/lib/python3.11/site-packages (from google-api-core[grpc]!=2.0.*,!=2.1.*,!=2.10.*,!=2.2.*,!=2.3.*,!=2.4.*,!=2.5.*,!=2.6.*,!=2.7.*,!=2.8.*,!=2.9.*,<3.0.0dev,>=1.34.0->google-cloud-texttospeech) (1.59.0)\n",
      "Requirement already satisfied: grpcio-status<2.0.dev0,>=1.33.2 in /Users/tgrab/miniconda3/envs/gcp/lib/python3.11/site-packages (from google-api-core[grpc]!=2.0.*,!=2.1.*,!=2.10.*,!=2.2.*,!=2.3.*,!=2.4.*,!=2.5.*,!=2.6.*,!=2.7.*,!=2.8.*,!=2.9.*,<3.0.0dev,>=1.34.0->google-cloud-texttospeech) (1.59.0)\n",
      "Requirement already satisfied: cachetools<6.0,>=2.0.0 in /Users/tgrab/miniconda3/envs/gcp/lib/python3.11/site-packages (from google-auth<3.0.dev0,>=2.14.1->google-api-core[grpc]!=2.0.*,!=2.1.*,!=2.10.*,!=2.2.*,!=2.3.*,!=2.4.*,!=2.5.*,!=2.6.*,!=2.7.*,!=2.8.*,!=2.9.*,<3.0.0dev,>=1.34.0->google-cloud-texttospeech) (5.3.1)\n",
      "Requirement already satisfied: pyasn1-modules>=0.2.1 in /Users/tgrab/miniconda3/envs/gcp/lib/python3.11/site-packages (from google-auth<3.0.dev0,>=2.14.1->google-api-core[grpc]!=2.0.*,!=2.1.*,!=2.10.*,!=2.2.*,!=2.3.*,!=2.4.*,!=2.5.*,!=2.6.*,!=2.7.*,!=2.8.*,!=2.9.*,<3.0.0dev,>=1.34.0->google-cloud-texttospeech) (0.3.0)\n",
      "Requirement already satisfied: rsa<5,>=3.1.4 in /Users/tgrab/miniconda3/envs/gcp/lib/python3.11/site-packages (from google-auth<3.0.dev0,>=2.14.1->google-api-core[grpc]!=2.0.*,!=2.1.*,!=2.10.*,!=2.2.*,!=2.3.*,!=2.4.*,!=2.5.*,!=2.6.*,!=2.7.*,!=2.8.*,!=2.9.*,<3.0.0dev,>=1.34.0->google-cloud-texttospeech) (4.9)\n",
      "Requirement already satisfied: charset-normalizer<4,>=2 in /Users/tgrab/miniconda3/envs/gcp/lib/python3.11/site-packages (from requests<3.0.0.dev0,>=2.18.0->google-api-core[grpc]!=2.0.*,!=2.1.*,!=2.10.*,!=2.2.*,!=2.3.*,!=2.4.*,!=2.5.*,!=2.6.*,!=2.7.*,!=2.8.*,!=2.9.*,<3.0.0dev,>=1.34.0->google-cloud-texttospeech) (3.2.0)\n",
      "Requirement already satisfied: idna<4,>=2.5 in /Users/tgrab/miniconda3/envs/gcp/lib/python3.11/site-packages (from requests<3.0.0.dev0,>=2.18.0->google-api-core[grpc]!=2.0.*,!=2.1.*,!=2.10.*,!=2.2.*,!=2.3.*,!=2.4.*,!=2.5.*,!=2.6.*,!=2.7.*,!=2.8.*,!=2.9.*,<3.0.0dev,>=1.34.0->google-cloud-texttospeech) (3.4)\n",
      "Requirement already satisfied: urllib3<3,>=1.21.1 in /Users/tgrab/miniconda3/envs/gcp/lib/python3.11/site-packages (from requests<3.0.0.dev0,>=2.18.0->google-api-core[grpc]!=2.0.*,!=2.1.*,!=2.10.*,!=2.2.*,!=2.3.*,!=2.4.*,!=2.5.*,!=2.6.*,!=2.7.*,!=2.8.*,!=2.9.*,<3.0.0dev,>=1.34.0->google-cloud-texttospeech) (2.1.0)\n",
      "Requirement already satisfied: certifi>=2017.4.17 in /Users/tgrab/miniconda3/envs/gcp/lib/python3.11/site-packages (from requests<3.0.0.dev0,>=2.18.0->google-api-core[grpc]!=2.0.*,!=2.1.*,!=2.10.*,!=2.2.*,!=2.3.*,!=2.4.*,!=2.5.*,!=2.6.*,!=2.7.*,!=2.8.*,!=2.9.*,<3.0.0dev,>=1.34.0->google-cloud-texttospeech) (2025.1.31)\n",
      "Requirement already satisfied: pyasn1<0.6.0,>=0.4.6 in /Users/tgrab/miniconda3/envs/gcp/lib/python3.11/site-packages (from pyasn1-modules>=0.2.1->google-auth<3.0.dev0,>=2.14.1->google-api-core[grpc]!=2.0.*,!=2.1.*,!=2.10.*,!=2.2.*,!=2.3.*,!=2.4.*,!=2.5.*,!=2.6.*,!=2.7.*,!=2.8.*,!=2.9.*,<3.0.0dev,>=1.34.0->google-cloud-texttospeech) (0.5.0)\n"
     ]
    }
   ],
   "source": [
    "!pip install google-cloud-texttospeech"
   ]
  },
  {
   "cell_type": "code",
   "execution_count": 2,
   "id": "1521b217-14fd-473b-83e4-a3ad5c0bb747",
   "metadata": {},
   "outputs": [],
   "source": [
    "from google.cloud import texttospeech\n",
    "\n",
    "# Text-to-Speech: Convert text to audio file\n",
    "def synthesize_text(text, output_file=\"output.mp3\", language_code=\"en-US\"):\n",
    "    \"\"\"\n",
    "    Synthesizes speech from text and saves to an output file.\n",
    "\n",
    "    Args:\n",
    "        text: The text to synthesize\n",
    "        output_file: Path to the output audio file\n",
    "        language_code: Language of the text (default: en-US)\n",
    "    \"\"\"\n",
    "    # Instantiate a client\n",
    "    client = texttospeech.TextToSpeechClient()\n",
    "\n",
    "    # Set the text input\n",
    "    synthesis_input = texttospeech.SynthesisInput(text=text)\n",
    "\n",
    "    # Build the voice request\n",
    "    voice = texttospeech.VoiceSelectionParams(\n",
    "        language_code=language_code,\n",
    "        ssml_gender=texttospeech.SsmlVoiceGender.NEUTRAL,\n",
    "    )\n",
    "\n",
    "    # Select the audio file type\n",
    "    audio_config = texttospeech.AudioConfig(\n",
    "        audio_encoding=texttospeech.AudioEncoding.MP3,\n",
    "    )\n",
    "\n",
    "    # Perform the text-to-speech request\n",
    "    response = client.synthesize_speech(\n",
    "        input=synthesis_input, voice=voice, audio_config=audio_config\n",
    "    )\n",
    "\n",
    "    # Write the response to the output file\n",
    "    with open(output_file, \"wb\") as out:\n",
    "        out.write(response.audio_content)\n",
    "        print(f'Audio content written to file \"{output_file}\"')\n",
    "\n",
    "# Text-to-Speech: Advanced customization\n",
    "def synthesize_with_custom_voice(text, output_file=\"output.mp3\"):\n",
    "    \"\"\"\n",
    "    Synthesizes speech with customized voice settings.\n",
    "\n",
    "    Args:\n",
    "        text: The text to synthesize\n",
    "        output_file: Path to the output audio file\n",
    "    \"\"\"\n",
    "    # Instantiate a client\n",
    "    client = texttospeech.TextToSpeechClient()\n",
    "\n",
    "    # Set the text input\n",
    "    synthesis_input = texttospeech.SynthesisInput(text=text)\n",
    "\n",
    "    # Build the voice request with specific voice name\n",
    "    voice = texttospeech.VoiceSelectionParams(\n",
    "        language_code=\"en-US\",\n",
    "        name=\"en-US-Wavenet-F\",  # Specific voice model\n",
    "        ssml_gender=texttospeech.SsmlVoiceGender.FEMALE,\n",
    "    )\n",
    "\n",
    "    # Select the audio file type with enhanced settings\n",
    "    audio_config = texttospeech.AudioConfig(\n",
    "        audio_encoding=texttospeech.AudioEncoding.MP3,\n",
    "        speaking_rate=0.9,   # 0.25 to 4.0, 1.0 is normal speed\n",
    "        pitch=1.5,           # -20.0 to 20.0, 0.0 is normal pitch\n",
    "        volume_gain_db=2.0,  # -96.0 to 16.0, 0.0 is normal volume\n",
    "        sample_rate_hertz=24000,  # Higher quality audio\n",
    "    )\n",
    "\n",
    "    # Perform the text-to-speech request\n",
    "    response = client.synthesize_speech(\n",
    "        input=synthesis_input, voice=voice, audio_config=audio_config\n",
    "    )\n",
    "\n",
    "    # Write the response to the output file\n",
    "    with open(output_file, \"wb\") as out:\n",
    "        out.write(response.audio_content)\n",
    "        print(f'Audio content written to file \"{output_file}\"')"
   ]
  },
  {
   "cell_type": "code",
   "execution_count": 4,
   "id": "f8ee4034-fc40-496c-bc87-145d56a83b12",
   "metadata": {},
   "outputs": [
    {
     "name": "stdout",
     "output_type": "stream",
     "text": [
      "Audio content written to file \"hello.mp3\"\n"
     ]
    }
   ],
   "source": [
    "synthesize_text(\"Hello, this is a test of Google Cloud Text-to-Speech API!\", \"hello.mp3\")"
   ]
  }
 ],
 "metadata": {
  "kernelspec": {
   "display_name": "Python 3 (ipykernel)",
   "language": "python",
   "name": "python3"
  },
  "language_info": {
   "codemirror_mode": {
    "name": "ipython",
    "version": 3
   },
   "file_extension": ".py",
   "mimetype": "text/x-python",
   "name": "python",
   "nbconvert_exporter": "python",
   "pygments_lexer": "ipython3",
   "version": "3.11.4"
  }
 },
 "nbformat": 4,
 "nbformat_minor": 5
}

{
 "cells": [
  {
   "cell_type": "markdown",
   "id": "b2cab34c-179a-4d76-a1e8-97dae105f2cc",
   "metadata": {},
   "source": [
    "# Setup"
   ]
  },
  {
   "cell_type": "markdown",
   "id": "2721e751-beeb-4dd6-9ff8-eb703111a1df",
   "metadata": {},
   "source": [
    "Before you can begin using the Transcoder API, run the following command in Cloud Shell to enable the API:"
   ]
  },
  {
   "cell_type": "code",
   "execution_count": 1,
   "id": "028058d2-475f-443b-90c4-e54444a5224d",
   "metadata": {
    "tags": []
   },
   "outputs": [],
   "source": [
    "!gcloud services enable transcoder.googleapis.com"
   ]
  },
  {
   "cell_type": "markdown",
   "id": "8c98b346-09ee-410f-be8c-df6034a1f0c5",
   "metadata": {
    "tags": []
   },
   "source": [
    "Get the project id (to be used in your application):"
   ]
  },
  {
   "cell_type": "code",
   "execution_count": 2,
   "id": "407dbebd-9d0b-4798-83c4-a34c3785f4a7",
   "metadata": {
    "tags": []
   },
   "outputs": [
    {
     "name": "stdout",
     "output_type": "stream",
     "text": [
      "truster-tester-program\n"
     ]
    }
   ],
   "source": [
    "!echo $(gcloud config get-value core/project)"
   ]
  },
  {
   "cell_type": "markdown",
   "id": "964f19ae-5a98-4774-8971-5282f6920761",
   "metadata": {},
   "source": [
    "Install IPython and the Translation API client library:"
   ]
  },
  {
   "cell_type": "code",
   "execution_count": 3,
   "id": "7d2efaf1-45f3-4aac-bbd8-58a77fa42b4e",
   "metadata": {
    "tags": []
   },
   "outputs": [
    {
     "name": "stdout",
     "output_type": "stream",
     "text": [
      "Requirement already satisfied: google-cloud-video-transcoder in /opt/conda/lib/python3.10/site-packages (1.15.1)\n",
      "Requirement already satisfied: google-api-core!=2.0.*,!=2.1.*,!=2.10.*,!=2.2.*,!=2.3.*,!=2.4.*,!=2.5.*,!=2.6.*,!=2.7.*,!=2.8.*,!=2.9.*,<3.0.0,>=1.34.1 in /opt/conda/lib/python3.10/site-packages (from google-api-core[grpc]!=2.0.*,!=2.1.*,!=2.10.*,!=2.2.*,!=2.3.*,!=2.4.*,!=2.5.*,!=2.6.*,!=2.7.*,!=2.8.*,!=2.9.*,<3.0.0,>=1.34.1->google-cloud-video-transcoder) (2.24.2)\n",
      "Requirement already satisfied: google-auth!=2.24.0,!=2.25.0,<3.0.0,>=2.14.1 in /opt/conda/lib/python3.10/site-packages (from google-cloud-video-transcoder) (2.38.0)\n",
      "Requirement already satisfied: proto-plus<2.0.0,>=1.22.3 in /opt/conda/lib/python3.10/site-packages (from google-cloud-video-transcoder) (1.26.1)\n",
      "Requirement already satisfied: protobuf!=4.21.0,!=4.21.1,!=4.21.2,!=4.21.3,!=4.21.4,!=4.21.5,<7.0.0,>=3.20.2 in /opt/conda/lib/python3.10/site-packages (from google-cloud-video-transcoder) (3.20.3)\n",
      "Requirement already satisfied: googleapis-common-protos<2.0.0,>=1.56.2 in /opt/conda/lib/python3.10/site-packages (from google-api-core!=2.0.*,!=2.1.*,!=2.10.*,!=2.2.*,!=2.3.*,!=2.4.*,!=2.5.*,!=2.6.*,!=2.7.*,!=2.8.*,!=2.9.*,<3.0.0,>=1.34.1->google-api-core[grpc]!=2.0.*,!=2.1.*,!=2.10.*,!=2.2.*,!=2.3.*,!=2.4.*,!=2.5.*,!=2.6.*,!=2.7.*,!=2.8.*,!=2.9.*,<3.0.0,>=1.34.1->google-cloud-video-transcoder) (1.69.2)\n",
      "Requirement already satisfied: requests<3.0.0,>=2.18.0 in /opt/conda/lib/python3.10/site-packages (from google-api-core!=2.0.*,!=2.1.*,!=2.10.*,!=2.2.*,!=2.3.*,!=2.4.*,!=2.5.*,!=2.6.*,!=2.7.*,!=2.8.*,!=2.9.*,<3.0.0,>=1.34.1->google-api-core[grpc]!=2.0.*,!=2.1.*,!=2.10.*,!=2.2.*,!=2.3.*,!=2.4.*,!=2.5.*,!=2.6.*,!=2.7.*,!=2.8.*,!=2.9.*,<3.0.0,>=1.34.1->google-cloud-video-transcoder) (2.32.3)\n",
      "Requirement already satisfied: grpcio<2.0dev,>=1.33.2 in /opt/conda/lib/python3.10/site-packages (from google-api-core[grpc]!=2.0.*,!=2.1.*,!=2.10.*,!=2.2.*,!=2.3.*,!=2.4.*,!=2.5.*,!=2.6.*,!=2.7.*,!=2.8.*,!=2.9.*,<3.0.0,>=1.34.1->google-cloud-video-transcoder) (1.71.0)\n",
      "Requirement already satisfied: grpcio-status<2.0.dev0,>=1.33.2 in /opt/conda/lib/python3.10/site-packages (from google-api-core[grpc]!=2.0.*,!=2.1.*,!=2.10.*,!=2.2.*,!=2.3.*,!=2.4.*,!=2.5.*,!=2.6.*,!=2.7.*,!=2.8.*,!=2.9.*,<3.0.0,>=1.34.1->google-cloud-video-transcoder) (1.49.0rc1)\n",
      "Requirement already satisfied: cachetools<6.0,>=2.0.0 in /opt/conda/lib/python3.10/site-packages (from google-auth!=2.24.0,!=2.25.0,<3.0.0,>=2.14.1->google-cloud-video-transcoder) (5.5.2)\n",
      "Requirement already satisfied: pyasn1-modules>=0.2.1 in /opt/conda/lib/python3.10/site-packages (from google-auth!=2.24.0,!=2.25.0,<3.0.0,>=2.14.1->google-cloud-video-transcoder) (0.4.2)\n",
      "Requirement already satisfied: rsa<5,>=3.1.4 in /opt/conda/lib/python3.10/site-packages (from google-auth!=2.24.0,!=2.25.0,<3.0.0,>=2.14.1->google-cloud-video-transcoder) (4.9)\n",
      "Requirement already satisfied: pyasn1<0.7.0,>=0.6.1 in /opt/conda/lib/python3.10/site-packages (from pyasn1-modules>=0.2.1->google-auth!=2.24.0,!=2.25.0,<3.0.0,>=2.14.1->google-cloud-video-transcoder) (0.6.1)\n",
      "Requirement already satisfied: charset_normalizer<4,>=2 in /opt/conda/lib/python3.10/site-packages (from requests<3.0.0,>=2.18.0->google-api-core!=2.0.*,!=2.1.*,!=2.10.*,!=2.2.*,!=2.3.*,!=2.4.*,!=2.5.*,!=2.6.*,!=2.7.*,!=2.8.*,!=2.9.*,<3.0.0,>=1.34.1->google-api-core[grpc]!=2.0.*,!=2.1.*,!=2.10.*,!=2.2.*,!=2.3.*,!=2.4.*,!=2.5.*,!=2.6.*,!=2.7.*,!=2.8.*,!=2.9.*,<3.0.0,>=1.34.1->google-cloud-video-transcoder) (3.4.1)\n",
      "Requirement already satisfied: idna<4,>=2.5 in /opt/conda/lib/python3.10/site-packages (from requests<3.0.0,>=2.18.0->google-api-core!=2.0.*,!=2.1.*,!=2.10.*,!=2.2.*,!=2.3.*,!=2.4.*,!=2.5.*,!=2.6.*,!=2.7.*,!=2.8.*,!=2.9.*,<3.0.0,>=1.34.1->google-api-core[grpc]!=2.0.*,!=2.1.*,!=2.10.*,!=2.2.*,!=2.3.*,!=2.4.*,!=2.5.*,!=2.6.*,!=2.7.*,!=2.8.*,!=2.9.*,<3.0.0,>=1.34.1->google-cloud-video-transcoder) (3.10)\n",
      "Requirement already satisfied: urllib3<3,>=1.21.1 in /opt/conda/lib/python3.10/site-packages (from requests<3.0.0,>=2.18.0->google-api-core!=2.0.*,!=2.1.*,!=2.10.*,!=2.2.*,!=2.3.*,!=2.4.*,!=2.5.*,!=2.6.*,!=2.7.*,!=2.8.*,!=2.9.*,<3.0.0,>=1.34.1->google-api-core[grpc]!=2.0.*,!=2.1.*,!=2.10.*,!=2.2.*,!=2.3.*,!=2.4.*,!=2.5.*,!=2.6.*,!=2.7.*,!=2.8.*,!=2.9.*,<3.0.0,>=1.34.1->google-cloud-video-transcoder) (1.26.20)\n",
      "Requirement already satisfied: certifi>=2017.4.17 in /opt/conda/lib/python3.10/site-packages (from requests<3.0.0,>=2.18.0->google-api-core!=2.0.*,!=2.1.*,!=2.10.*,!=2.2.*,!=2.3.*,!=2.4.*,!=2.5.*,!=2.6.*,!=2.7.*,!=2.8.*,!=2.9.*,<3.0.0,>=1.34.1->google-api-core[grpc]!=2.0.*,!=2.1.*,!=2.10.*,!=2.2.*,!=2.3.*,!=2.4.*,!=2.5.*,!=2.6.*,!=2.7.*,!=2.8.*,!=2.9.*,<3.0.0,>=1.34.1->google-cloud-video-transcoder) (2025.1.31)\n"
     ]
    }
   ],
   "source": [
    "!pip install google-cloud-video-transcoder"
   ]
  },
  {
   "cell_type": "code",
   "execution_count": 4,
   "id": "bc7381c3-c731-4d8c-bbb6-2f90f58bad66",
   "metadata": {
    "tags": []
   },
   "outputs": [],
   "source": [
    "import argparse\n",
    "\n",
    "from google.cloud.video import transcoder_v1\n",
    "from google.cloud.video.transcoder_v1.services.transcoder_service import (\n",
    "    TranscoderServiceClient,\n",
    ")"
   ]
  },
  {
   "cell_type": "code",
   "execution_count": 5,
   "id": "310a2895-f099-4e8d-bc62-c92cbd7fe740",
   "metadata": {
    "tags": []
   },
   "outputs": [],
   "source": [
    "PROJECT_ID = 'truster-tester-program'"
   ]
  },
  {
   "cell_type": "markdown",
   "id": "796ab7fb-0a4f-44a1-8503-4790b9201431",
   "metadata": {},
   "source": [
    "The PROJECT_ID variable will be used for requests in the next steps."
   ]
  },
  {
   "cell_type": "markdown",
   "id": "0b058c73-9663-4cbd-a0c4-9a81163c7470",
   "metadata": {},
   "source": [
    "# Upload a video to your Cloud Storage bucket"
   ]
  },
  {
   "cell_type": "markdown",
   "id": "3ba1753e-dac1-4e35-8545-a357697a6712",
   "metadata": {},
   "source": [
    "# Create a transcoding job"
   ]
  },
  {
   "cell_type": "markdown",
   "id": "bc3b43ba-e88d-4184-83cd-7237c1f6a4a9",
   "metadata": {},
   "source": [
    "By default, the Transcoder API transcodes video using H.264 encoding and MP4, HLS, and MPEG-DASH packaging. For each input video, it delivers output renditions in high definition (1280x720 pixels) and standard definition (640x360 pixels)."
   ]
  },
  {
   "cell_type": "code",
   "execution_count": 6,
   "id": "57448506-4324-4a4b-8463-a5750ca4fca7",
   "metadata": {
    "tags": []
   },
   "outputs": [],
   "source": [
    "def create_job_from_preset(\n",
    "    project_id: str,\n",
    "    location: str,\n",
    "    input_uri: str,\n",
    "    output_uri: str,\n",
    "    preset: str,\n",
    ") -> transcoder_v1.types.resources.Job:\n",
    "    \"\"\"Creates a job based on a job preset.\n",
    "\n",
    "    Args:\n",
    "        project_id: The GCP project ID.\n",
    "        location: The location to start the job in.\n",
    "        input_uri: Uri of the video in the Cloud Storage bucket.\n",
    "        output_uri: Uri of the video output folder in the Cloud Storage bucket.\n",
    "        preset: The preset template (for example, 'preset/web-hd').\n",
    "\n",
    "    Returns:\n",
    "        The job resource.\n",
    "    \"\"\"\n",
    "\n",
    "    client = TranscoderServiceClient()\n",
    "\n",
    "    parent = f\"projects/{project_id}/locations/{location}\"\n",
    "    job = transcoder_v1.types.Job()\n",
    "    job.input_uri = input_uri\n",
    "    job.output_uri = output_uri\n",
    "    job.template_id = preset\n",
    "\n",
    "    response = client.create_job(parent=parent, job=job)\n",
    "    print(f\"Job: {response.name}\")\n",
    "    return response"
   ]
  },
  {
   "cell_type": "code",
   "execution_count": 7,
   "id": "37ca65cc-5e14-4111-ab1e-48102af051dd",
   "metadata": {
    "tags": []
   },
   "outputs": [
    {
     "name": "stdout",
     "output_type": "stream",
     "text": [
      "Job: projects/104534638680/locations/europe-west1/jobs/851ba39d-3c60-4859-a205-9afb6e9742b7\n"
     ]
    },
    {
     "data": {
      "text/plain": [
       "name: \"projects/104534638680/locations/europe-west1/jobs/851ba39d-3c60-4859-a205-9afb6e9742b7\"\n",
       "config {\n",
       "  inputs {\n",
       "    key: \"input0\"\n",
       "    uri: \"gs://pjs-munich-datathon-bucket/input/dreamfall.mov\"\n",
       "  }\n",
       "  edit_list {\n",
       "    key: \"atom0\"\n",
       "    inputs: \"input0\"\n",
       "    start_time_offset {\n",
       "    }\n",
       "  }\n",
       "  elementary_streams {\n",
       "    video_stream {\n",
       "      h264 {\n",
       "        width_pixels: 640\n",
       "        height_pixels: 360\n",
       "        frame_rate: 30.0\n",
       "        bitrate_bps: 550000\n",
       "        pixel_format: \"yuv420p\"\n",
       "        rate_control_mode: \"vbr\"\n",
       "        crf_level: 21\n",
       "        gop_duration {\n",
       "          seconds: 3\n",
       "        }\n",
       "        vbv_size_bits: 550000\n",
       "        vbv_fullness_bits: 495000\n",
       "        entropy_coder: \"cabac\"\n",
       "        b_frame_count: 3\n",
       "        aq_strength: 1.0\n",
       "        profile: \"high\"\n",
       "        preset: \"veryfast\"\n",
       "      }\n",
       "    }\n",
       "    key: \"video-stream0\"\n",
       "  }\n",
       "  elementary_streams {\n",
       "    video_stream {\n",
       "      h264 {\n",
       "        width_pixels: 1280\n",
       "        height_pixels: 720\n",
       "        frame_rate: 30.0\n",
       "        bitrate_bps: 2500000\n",
       "        pixel_format: \"yuv420p\"\n",
       "        rate_control_mode: \"vbr\"\n",
       "        crf_level: 21\n",
       "        gop_duration {\n",
       "          seconds: 3\n",
       "        }\n",
       "        vbv_size_bits: 2500000\n",
       "        vbv_fullness_bits: 2250000\n",
       "        entropy_coder: \"cabac\"\n",
       "        b_frame_count: 3\n",
       "        aq_strength: 1.0\n",
       "        profile: \"high\"\n",
       "        preset: \"veryfast\"\n",
       "      }\n",
       "    }\n",
       "    key: \"video-stream1\"\n",
       "  }\n",
       "  elementary_streams {\n",
       "    audio_stream {\n",
       "      codec: \"aac\"\n",
       "      bitrate_bps: 64000\n",
       "      channel_count: 2\n",
       "      channel_layout: \"fl\"\n",
       "      channel_layout: \"fr\"\n",
       "      sample_rate_hertz: 48000\n",
       "    }\n",
       "    key: \"audio-stream0\"\n",
       "  }\n",
       "  mux_streams {\n",
       "    key: \"sd\"\n",
       "    file_name: \"sd.mp4\"\n",
       "    container: \"mp4\"\n",
       "    elementary_streams: \"video-stream0\"\n",
       "    elementary_streams: \"audio-stream0\"\n",
       "  }\n",
       "  mux_streams {\n",
       "    key: \"hd\"\n",
       "    file_name: \"hd.mp4\"\n",
       "    container: \"mp4\"\n",
       "    elementary_streams: \"video-stream1\"\n",
       "    elementary_streams: \"audio-stream0\"\n",
       "  }\n",
       "  mux_streams {\n",
       "    key: \"media-sd\"\n",
       "    file_name: \"media-sd.ts\"\n",
       "    container: \"ts\"\n",
       "    elementary_streams: \"video-stream0\"\n",
       "    elementary_streams: \"audio-stream0\"\n",
       "    segment_settings {\n",
       "      segment_duration {\n",
       "        seconds: 6\n",
       "      }\n",
       "    }\n",
       "  }\n",
       "  mux_streams {\n",
       "    key: \"media-hd\"\n",
       "    file_name: \"media-hd.ts\"\n",
       "    container: \"ts\"\n",
       "    elementary_streams: \"video-stream1\"\n",
       "    elementary_streams: \"audio-stream0\"\n",
       "    segment_settings {\n",
       "      segment_duration {\n",
       "        seconds: 6\n",
       "      }\n",
       "    }\n",
       "  }\n",
       "  mux_streams {\n",
       "    key: \"video-only-sd\"\n",
       "    file_name: \"video-only-sd.m4s\"\n",
       "    container: \"fmp4\"\n",
       "    elementary_streams: \"video-stream0\"\n",
       "    segment_settings {\n",
       "      segment_duration {\n",
       "        seconds: 6\n",
       "      }\n",
       "    }\n",
       "  }\n",
       "  mux_streams {\n",
       "    key: \"video-only-hd\"\n",
       "    file_name: \"video-only-hd.m4s\"\n",
       "    container: \"fmp4\"\n",
       "    elementary_streams: \"video-stream1\"\n",
       "    segment_settings {\n",
       "      segment_duration {\n",
       "        seconds: 6\n",
       "      }\n",
       "    }\n",
       "  }\n",
       "  mux_streams {\n",
       "    key: \"audio-only\"\n",
       "    file_name: \"audio-only.m4s\"\n",
       "    container: \"fmp4\"\n",
       "    elementary_streams: \"audio-stream0\"\n",
       "    segment_settings {\n",
       "      segment_duration {\n",
       "        seconds: 6\n",
       "      }\n",
       "    }\n",
       "  }\n",
       "  manifests {\n",
       "    file_name: \"manifest.m3u8\"\n",
       "    type_: HLS\n",
       "    mux_streams: \"media-sd\"\n",
       "    mux_streams: \"media-hd\"\n",
       "  }\n",
       "  manifests {\n",
       "    file_name: \"manifest.mpd\"\n",
       "    type_: DASH\n",
       "    mux_streams: \"video-only-sd\"\n",
       "    mux_streams: \"video-only-hd\"\n",
       "    mux_streams: \"audio-only\"\n",
       "    dash {\n",
       "      segment_reference_scheme: SEGMENT_LIST\n",
       "    }\n",
       "  }\n",
       "  output {\n",
       "    uri: \"gs://pjs-munich-datathon-bucket/output/\"\n",
       "  }\n",
       "}\n",
       "state: PENDING\n",
       "create_time {\n",
       "  seconds: 1745831294\n",
       "  nanos: 640215550\n",
       "}\n",
       "ttl_after_completion_days: 30\n",
       "optimization: AUTODETECT"
      ]
     },
     "execution_count": 7,
     "metadata": {},
     "output_type": "execute_result"
    }
   ],
   "source": [
    "create_job_from_preset(\n",
    "    project_id=PROJECT_ID,\n",
    "    location='europe-west1',\n",
    "    input_uri='gs://pjs-munich-datathon-bucket/input/dreamfall.mov',\n",
    "    output_uri='gs://pjs-munich-datathon-bucket/output/',\n",
    "    preset='preset/web-hd'\n",
    ")"
   ]
  },
  {
   "cell_type": "markdown",
   "id": "db1ece24-8a09-402a-a954-4eb4a741a917",
   "metadata": {},
   "source": [
    "# Check the status of your transcoding job"
   ]
  },
  {
   "cell_type": "code",
   "execution_count": 8,
   "id": "9db02615-8362-47c3-8e65-49a994a46467",
   "metadata": {
    "tags": []
   },
   "outputs": [],
   "source": [
    "def get_job_state(\n",
    "    project_id: str,\n",
    "    location: str,\n",
    "    job_id: str,\n",
    ") -> transcoder_v1.types.resources.Job:\n",
    "    \"\"\"Gets a job's state.\n",
    "\n",
    "    Args:\n",
    "        project_id: The GCP project ID.\n",
    "        location: The location this job is in.\n",
    "        job_id: The job ID.\n",
    "\n",
    "    Returns:\n",
    "        The job resource.\n",
    "    \"\"\"\n",
    "\n",
    "    client = TranscoderServiceClient()\n",
    "\n",
    "    name = f\"projects/{project_id}/locations/{location}/jobs/{job_id}\"\n",
    "    response = client.get_job(name=name)\n",
    "\n",
    "    print(f\"Job state: {str(response.state.name)}\")\n",
    "    return response\n"
   ]
  },
  {
   "cell_type": "code",
   "execution_count": 11,
   "id": "e31a51d7-5096-419b-b0d3-b7e4eec09212",
   "metadata": {
    "tags": []
   },
   "outputs": [
    {
     "name": "stdout",
     "output_type": "stream",
     "text": [
      "Job state: SUCCEEDED\n"
     ]
    },
    {
     "data": {
      "text/plain": [
       "name: \"projects/104534638680/locations/europe-west1/jobs/851ba39d-3c60-4859-a205-9afb6e9742b7\"\n",
       "config {\n",
       "  inputs {\n",
       "    key: \"input0\"\n",
       "    uri: \"gs://pjs-munich-datathon-bucket/input/dreamfall.mov\"\n",
       "  }\n",
       "  edit_list {\n",
       "    key: \"atom0\"\n",
       "    inputs: \"input0\"\n",
       "    end_time_offset {\n",
       "      seconds: 265\n",
       "      nanos: 233333000\n",
       "    }\n",
       "    start_time_offset {\n",
       "    }\n",
       "  }\n",
       "  elementary_streams {\n",
       "    video_stream {\n",
       "      h264 {\n",
       "        width_pixels: 640\n",
       "        height_pixels: 360\n",
       "        frame_rate: 30.0\n",
       "        bitrate_bps: 550000\n",
       "        pixel_format: \"yuv420p\"\n",
       "        rate_control_mode: \"vbr\"\n",
       "        crf_level: 21\n",
       "        gop_duration {\n",
       "          seconds: 3\n",
       "        }\n",
       "        vbv_size_bits: 550000\n",
       "        vbv_fullness_bits: 495000\n",
       "        entropy_coder: \"cabac\"\n",
       "        b_frame_count: 3\n",
       "        aq_strength: 1.0\n",
       "        profile: \"high\"\n",
       "        preset: \"veryfast\"\n",
       "      }\n",
       "    }\n",
       "    key: \"video-stream0\"\n",
       "  }\n",
       "  elementary_streams {\n",
       "    video_stream {\n",
       "      h264 {\n",
       "        width_pixels: 1280\n",
       "        height_pixels: 720\n",
       "        frame_rate: 30.0\n",
       "        bitrate_bps: 2500000\n",
       "        pixel_format: \"yuv420p\"\n",
       "        rate_control_mode: \"vbr\"\n",
       "        crf_level: 21\n",
       "        gop_duration {\n",
       "          seconds: 3\n",
       "        }\n",
       "        vbv_size_bits: 2500000\n",
       "        vbv_fullness_bits: 2250000\n",
       "        entropy_coder: \"cabac\"\n",
       "        b_frame_count: 3\n",
       "        aq_strength: 1.0\n",
       "        profile: \"high\"\n",
       "        preset: \"veryfast\"\n",
       "      }\n",
       "    }\n",
       "    key: \"video-stream1\"\n",
       "  }\n",
       "  elementary_streams {\n",
       "    audio_stream {\n",
       "      codec: \"aac\"\n",
       "      bitrate_bps: 64000\n",
       "      channel_count: 2\n",
       "      channel_layout: \"fl\"\n",
       "      channel_layout: \"fr\"\n",
       "      mapping_ {\n",
       "        atom_key: \"atom0\"\n",
       "        input_key: \"input0\"\n",
       "      }\n",
       "      mapping_ {\n",
       "        atom_key: \"atom0\"\n",
       "        input_key: \"input0\"\n",
       "        input_channel: 1\n",
       "        output_channel: 1\n",
       "      }\n",
       "      sample_rate_hertz: 48000\n",
       "    }\n",
       "    key: \"audio-stream0\"\n",
       "  }\n",
       "  mux_streams {\n",
       "    key: \"sd\"\n",
       "    file_name: \"sd.mp4\"\n",
       "    container: \"mp4\"\n",
       "    elementary_streams: \"video-stream0\"\n",
       "    elementary_streams: \"audio-stream0\"\n",
       "  }\n",
       "  mux_streams {\n",
       "    key: \"hd\"\n",
       "    file_name: \"hd.mp4\"\n",
       "    container: \"mp4\"\n",
       "    elementary_streams: \"video-stream1\"\n",
       "    elementary_streams: \"audio-stream0\"\n",
       "  }\n",
       "  mux_streams {\n",
       "    key: \"media-sd\"\n",
       "    file_name: \"media-sd.ts\"\n",
       "    container: \"ts\"\n",
       "    elementary_streams: \"video-stream0\"\n",
       "    elementary_streams: \"audio-stream0\"\n",
       "    segment_settings {\n",
       "      segment_duration {\n",
       "        seconds: 6\n",
       "      }\n",
       "    }\n",
       "  }\n",
       "  mux_streams {\n",
       "    key: \"media-hd\"\n",
       "    file_name: \"media-hd.ts\"\n",
       "    container: \"ts\"\n",
       "    elementary_streams: \"video-stream1\"\n",
       "    elementary_streams: \"audio-stream0\"\n",
       "    segment_settings {\n",
       "      segment_duration {\n",
       "        seconds: 6\n",
       "      }\n",
       "    }\n",
       "  }\n",
       "  mux_streams {\n",
       "    key: \"video-only-sd\"\n",
       "    file_name: \"video-only-sd.m4s\"\n",
       "    container: \"fmp4\"\n",
       "    elementary_streams: \"video-stream0\"\n",
       "    segment_settings {\n",
       "      segment_duration {\n",
       "        seconds: 6\n",
       "      }\n",
       "    }\n",
       "  }\n",
       "  mux_streams {\n",
       "    key: \"video-only-hd\"\n",
       "    file_name: \"video-only-hd.m4s\"\n",
       "    container: \"fmp4\"\n",
       "    elementary_streams: \"video-stream1\"\n",
       "    segment_settings {\n",
       "      segment_duration {\n",
       "        seconds: 6\n",
       "      }\n",
       "    }\n",
       "  }\n",
       "  mux_streams {\n",
       "    key: \"audio-only\"\n",
       "    file_name: \"audio-only.m4s\"\n",
       "    container: \"fmp4\"\n",
       "    elementary_streams: \"audio-stream0\"\n",
       "    segment_settings {\n",
       "      segment_duration {\n",
       "        seconds: 6\n",
       "      }\n",
       "    }\n",
       "  }\n",
       "  manifests {\n",
       "    file_name: \"manifest.m3u8\"\n",
       "    type_: HLS\n",
       "    mux_streams: \"media-sd\"\n",
       "    mux_streams: \"media-hd\"\n",
       "  }\n",
       "  manifests {\n",
       "    file_name: \"manifest.mpd\"\n",
       "    type_: DASH\n",
       "    mux_streams: \"video-only-sd\"\n",
       "    mux_streams: \"video-only-hd\"\n",
       "    mux_streams: \"audio-only\"\n",
       "    dash {\n",
       "      segment_reference_scheme: SEGMENT_LIST\n",
       "    }\n",
       "  }\n",
       "  output {\n",
       "    uri: \"gs://pjs-munich-datathon-bucket/output/\"\n",
       "  }\n",
       "}\n",
       "state: SUCCEEDED\n",
       "create_time {\n",
       "  seconds: 1745831294\n",
       "  nanos: 607024746\n",
       "}\n",
       "start_time {\n",
       "  seconds: 1745831296\n",
       "  nanos: 48536311\n",
       "}\n",
       "end_time {\n",
       "  seconds: 1745831336\n",
       "  nanos: 631000000\n",
       "}\n",
       "ttl_after_completion_days: 30\n",
       "optimization: AUTODETECT"
      ]
     },
     "execution_count": 11,
     "metadata": {},
     "output_type": "execute_result"
    }
   ],
   "source": [
    "get_job_state(\n",
    "    project_id=PROJECT_ID,\n",
    "    location='europe-west1',\n",
    "    job_id='851ba39d-3c60-4859-a205-9afb6e9742b7'\n",
    ")"
   ]
  },
  {
   "cell_type": "markdown",
   "id": "1a4f504a-ec77-48cf-bbea-818f9716cfdd",
   "metadata": {},
   "source": [
    "# Play your video"
   ]
  }
 ],
 "metadata": {
  "environment": {
   "kernel": "conda-base-py",
   "name": "workbench-notebooks.m129",
   "type": "gcloud",
   "uri": "us-docker.pkg.dev/deeplearning-platform-release/gcr.io/workbench-notebooks:m129"
  },
  "kernelspec": {
   "display_name": "Python 3 (ipykernel) (Local)",
   "language": "python",
   "name": "conda-base-py"
  },
  "language_info": {
   "codemirror_mode": {
    "name": "ipython",
    "version": 3
   },
   "file_extension": ".py",
   "mimetype": "text/x-python",
   "name": "python",
   "nbconvert_exporter": "python",
   "pygments_lexer": "ipython3",
   "version": "3.10.16"
  }
 },
 "nbformat": 4,
 "nbformat_minor": 5
}
